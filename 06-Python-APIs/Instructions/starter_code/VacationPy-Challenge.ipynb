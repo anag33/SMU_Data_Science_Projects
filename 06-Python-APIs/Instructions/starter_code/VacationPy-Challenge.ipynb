{
 "cells": [
  {
   "cell_type": "markdown",
   "metadata": {},
   "source": [
    "# VacationPy\n",
    "----\n",
    "\n",
    "#### Note\n",
    "* Instructions have been included for each segment. You do not have to follow them exactly, but they are included to help you think through the steps."
   ]
  },
  {
   "cell_type": "code",
   "execution_count": 1,
   "metadata": {},
   "outputs": [],
   "source": [
    "# Dependencies and Setup\n",
    "import matplotlib.pyplot as plt\n",
    "import pandas as pd\n",
    "import numpy as np\n",
    "import requests\n",
    "import gmaps\n",
    "import os\n",
    "\n",
    "# Import API key\n",
    "from api_keys import g_key"
   ]
  },
  {
   "cell_type": "code",
   "execution_count": 2,
   "metadata": {},
   "outputs": [],
   "source": [
    "# Configure gmaps\n",
    "gmaps.configure(api_key=g_key)"
   ]
  },
  {
   "cell_type": "markdown",
   "metadata": {},
   "source": [
    "### Store Part I results into DataFrame\n",
    "* Load the csv exported in Part I to a DataFrame"
   ]
  },
  {
   "cell_type": "code",
   "execution_count": 22,
   "metadata": {},
   "outputs": [
    {
     "data": {
      "text/html": [
       "<div>\n",
       "<style scoped>\n",
       "    .dataframe tbody tr th:only-of-type {\n",
       "        vertical-align: middle;\n",
       "    }\n",
       "\n",
       "    .dataframe tbody tr th {\n",
       "        vertical-align: top;\n",
       "    }\n",
       "\n",
       "    .dataframe thead th {\n",
       "        text-align: right;\n",
       "    }\n",
       "</style>\n",
       "<table border=\"1\" class=\"dataframe\">\n",
       "  <thead>\n",
       "    <tr style=\"text-align: right;\">\n",
       "      <th></th>\n",
       "      <th>cities</th>\n",
       "      <th>latitude</th>\n",
       "      <th>longitude</th>\n",
       "      <th>temperature</th>\n",
       "      <th>humidity</th>\n",
       "      <th>pressure</th>\n",
       "      <th>wind_speed</th>\n",
       "      <th>cloudiness</th>\n",
       "    </tr>\n",
       "  </thead>\n",
       "  <tbody>\n",
       "    <tr>\n",
       "      <td>0</td>\n",
       "      <td>sirnak</td>\n",
       "      <td>37.52</td>\n",
       "      <td>42.46</td>\n",
       "      <td>48.09</td>\n",
       "      <td>50</td>\n",
       "      <td>1013</td>\n",
       "      <td>6.02</td>\n",
       "      <td>100</td>\n",
       "    </tr>\n",
       "    <tr>\n",
       "      <td>1</td>\n",
       "      <td>bundaberg</td>\n",
       "      <td>-24.85</td>\n",
       "      <td>152.35</td>\n",
       "      <td>66.31</td>\n",
       "      <td>48</td>\n",
       "      <td>1021</td>\n",
       "      <td>9.17</td>\n",
       "      <td>90</td>\n",
       "    </tr>\n",
       "    <tr>\n",
       "      <td>2</td>\n",
       "      <td>atuona</td>\n",
       "      <td>-9.80</td>\n",
       "      <td>-139.03</td>\n",
       "      <td>82.04</td>\n",
       "      <td>73</td>\n",
       "      <td>1010</td>\n",
       "      <td>17.40</td>\n",
       "      <td>13</td>\n",
       "    </tr>\n",
       "    <tr>\n",
       "      <td>3</td>\n",
       "      <td>port elizabeth</td>\n",
       "      <td>-33.92</td>\n",
       "      <td>25.57</td>\n",
       "      <td>59.00</td>\n",
       "      <td>100</td>\n",
       "      <td>1025</td>\n",
       "      <td>4.70</td>\n",
       "      <td>90</td>\n",
       "    </tr>\n",
       "    <tr>\n",
       "      <td>4</td>\n",
       "      <td>qaanaaq</td>\n",
       "      <td>77.48</td>\n",
       "      <td>-69.36</td>\n",
       "      <td>20.88</td>\n",
       "      <td>88</td>\n",
       "      <td>997</td>\n",
       "      <td>2.82</td>\n",
       "      <td>97</td>\n",
       "    </tr>\n",
       "  </tbody>\n",
       "</table>\n",
       "</div>"
      ],
      "text/plain": [
       "           cities  latitude  longitude  temperature  humidity  pressure  \\\n",
       "0          sirnak     37.52      42.46        48.09        50      1013   \n",
       "1       bundaberg    -24.85     152.35        66.31        48      1021   \n",
       "2          atuona     -9.80    -139.03        82.04        73      1010   \n",
       "3  port elizabeth    -33.92      25.57        59.00       100      1025   \n",
       "4         qaanaaq     77.48     -69.36        20.88        88       997   \n",
       "\n",
       "   wind_speed  cloudiness  \n",
       "0        6.02         100  \n",
       "1        9.17          90  \n",
       "2       17.40          13  \n",
       "3        4.70          90  \n",
       "4        2.82          97  "
      ]
     },
     "execution_count": 22,
     "metadata": {},
     "output_type": "execute_result"
    }
   ],
   "source": [
    "cityData_df = pd.read_csv(\"cityData.csv\")\n",
    "cityData_df.head()\n"
   ]
  },
  {
   "cell_type": "markdown",
   "metadata": {},
   "source": [
    "### Humidity Heatmap\n",
    "* Configure gmaps.\n",
    "* Use the Lat and Lng as locations and Humidity as the weight.\n",
    "* Add Heatmap layer to map."
   ]
  },
  {
   "cell_type": "code",
   "execution_count": 23,
   "metadata": {},
   "outputs": [],
   "source": [
    "# Store latitude and longitude in locations\n",
    "locations = cityData_df[[\"latitude\", \"longitude\"]]\n",
    "\n",
    "# Fill NaN values and convert to float\n",
    "humid = cityData_df[\"humidity\"]\n"
   ]
  },
  {
   "cell_type": "code",
   "execution_count": 152,
   "metadata": {},
   "outputs": [
    {
     "data": {
      "application/vnd.jupyter.widget-view+json": {
       "model_id": "2fd451c8cd3248cca3f0d08cab471618",
       "version_major": 2,
       "version_minor": 0
      },
      "text/plain": [
       "Figure(layout=FigureLayout(border='1px solid black', height='800px', margin='0 auto 0 auto', padding='1px', wi…"
      ]
     },
     "metadata": {},
     "output_type": "display_data"
    }
   ],
   "source": [
    "# Customize the size of the figure\n",
    "figure_layout = {\n",
    "    'width': '800px',\n",
    "    'height': '800px',\n",
    "    'border': '1px solid black',\n",
    "    'padding': '1px',\n",
    "    'margin': '0 auto 0 auto'\n",
    "}\n",
    "\n",
    "\n",
    "# Plot Heatmap\n",
    "fig = gmaps.figure(map_type=\"HYBRID\", layout = figure_layout)\n",
    "\n",
    "# Create heat layer\n",
    "heat_layer = gmaps.heatmap_layer(locations, weights=humid, dissipating=True)\n",
    "\n",
    "\n",
    "heat_layer.max_intensity = 100\n",
    "heat_layer.point_radius = 20\n",
    "\n",
    "heat_layer.gradient = [\n",
    "    (200, 200, 200, 0.6),\n",
    "    (100, 100,100, 0.3),\n",
    "    (50, 50, 50, 0.3)\n",
    "]\n",
    "\n",
    "# Add layer\n",
    "fig.add_layer(heat_layer)\n",
    "\n",
    "# Display figure\n",
    "fig"
   ]
  },
  {
   "cell_type": "markdown",
   "metadata": {},
   "source": [
    "### Create new DataFrame fitting weather criteria\n",
    "* Narrow down the cities to fit weather conditions.\n",
    "* Drop any rows will null values."
   ]
  },
  {
   "cell_type": "code",
   "execution_count": 87,
   "metadata": {},
   "outputs": [
    {
     "data": {
      "text/html": [
       "<div>\n",
       "<style scoped>\n",
       "    .dataframe tbody tr th:only-of-type {\n",
       "        vertical-align: middle;\n",
       "    }\n",
       "\n",
       "    .dataframe tbody tr th {\n",
       "        vertical-align: top;\n",
       "    }\n",
       "\n",
       "    .dataframe thead th {\n",
       "        text-align: right;\n",
       "    }\n",
       "</style>\n",
       "<table border=\"1\" class=\"dataframe\">\n",
       "  <thead>\n",
       "    <tr style=\"text-align: right;\">\n",
       "      <th></th>\n",
       "      <th>cities</th>\n",
       "      <th>latitude</th>\n",
       "      <th>longitude</th>\n",
       "      <th>temperature</th>\n",
       "      <th>humidity</th>\n",
       "      <th>pressure</th>\n",
       "      <th>wind_speed</th>\n",
       "      <th>cloudiness</th>\n",
       "    </tr>\n",
       "  </thead>\n",
       "  <tbody>\n",
       "    <tr>\n",
       "      <td>0</td>\n",
       "      <td>pasan</td>\n",
       "      <td>22.85</td>\n",
       "      <td>82.20</td>\n",
       "      <td>76.95</td>\n",
       "      <td>36</td>\n",
       "      <td>1007</td>\n",
       "      <td>3.38</td>\n",
       "      <td>0</td>\n",
       "    </tr>\n",
       "    <tr>\n",
       "      <td>1</td>\n",
       "      <td>mecca</td>\n",
       "      <td>21.43</td>\n",
       "      <td>39.83</td>\n",
       "      <td>77.04</td>\n",
       "      <td>23</td>\n",
       "      <td>1008</td>\n",
       "      <td>2.42</td>\n",
       "      <td>0</td>\n",
       "    </tr>\n",
       "    <tr>\n",
       "      <td>2</td>\n",
       "      <td>sao filipe</td>\n",
       "      <td>14.90</td>\n",
       "      <td>-24.50</td>\n",
       "      <td>77.74</td>\n",
       "      <td>55</td>\n",
       "      <td>1014</td>\n",
       "      <td>9.08</td>\n",
       "      <td>0</td>\n",
       "    </tr>\n",
       "    <tr>\n",
       "      <td>3</td>\n",
       "      <td>nioro</td>\n",
       "      <td>13.35</td>\n",
       "      <td>-15.75</td>\n",
       "      <td>75.07</td>\n",
       "      <td>47</td>\n",
       "      <td>1010</td>\n",
       "      <td>6.49</td>\n",
       "      <td>0</td>\n",
       "    </tr>\n",
       "    <tr>\n",
       "      <td>4</td>\n",
       "      <td>nioki</td>\n",
       "      <td>-2.72</td>\n",
       "      <td>17.68</td>\n",
       "      <td>74.23</td>\n",
       "      <td>73</td>\n",
       "      <td>1010</td>\n",
       "      <td>1.68</td>\n",
       "      <td>0</td>\n",
       "    </tr>\n",
       "    <tr>\n",
       "      <td>5</td>\n",
       "      <td>chuzhou</td>\n",
       "      <td>32.32</td>\n",
       "      <td>118.30</td>\n",
       "      <td>79.83</td>\n",
       "      <td>65</td>\n",
       "      <td>1008</td>\n",
       "      <td>2.44</td>\n",
       "      <td>0</td>\n",
       "    </tr>\n",
       "    <tr>\n",
       "      <td>6</td>\n",
       "      <td>namibe</td>\n",
       "      <td>-15.20</td>\n",
       "      <td>12.15</td>\n",
       "      <td>77.43</td>\n",
       "      <td>58</td>\n",
       "      <td>1011</td>\n",
       "      <td>2.66</td>\n",
       "      <td>0</td>\n",
       "    </tr>\n",
       "    <tr>\n",
       "      <td>7</td>\n",
       "      <td>riyadh</td>\n",
       "      <td>24.69</td>\n",
       "      <td>46.72</td>\n",
       "      <td>75.20</td>\n",
       "      <td>27</td>\n",
       "      <td>1015</td>\n",
       "      <td>3.36</td>\n",
       "      <td>0</td>\n",
       "    </tr>\n",
       "  </tbody>\n",
       "</table>\n",
       "</div>"
      ],
      "text/plain": [
       "       cities  latitude  longitude  temperature  humidity  pressure  \\\n",
       "0       pasan     22.85      82.20        76.95        36      1007   \n",
       "1       mecca     21.43      39.83        77.04        23      1008   \n",
       "2  sao filipe     14.90     -24.50        77.74        55      1014   \n",
       "3       nioro     13.35     -15.75        75.07        47      1010   \n",
       "4       nioki     -2.72      17.68        74.23        73      1010   \n",
       "5     chuzhou     32.32     118.30        79.83        65      1008   \n",
       "6      namibe    -15.20      12.15        77.43        58      1011   \n",
       "7      riyadh     24.69      46.72        75.20        27      1015   \n",
       "\n",
       "   wind_speed  cloudiness  \n",
       "0        3.38           0  \n",
       "1        2.42           0  \n",
       "2        9.08           0  \n",
       "3        6.49           0  \n",
       "4        1.68           0  \n",
       "5        2.44           0  \n",
       "6        2.66           0  \n",
       "7        3.36           0  "
      ]
     },
     "execution_count": 87,
     "metadata": {},
     "output_type": "execute_result"
    }
   ],
   "source": [
    "# Filter cities to fit weather conditions\n",
    "temp_mask = (df.temperature >= 70) & (df.temperature < 80)\n",
    "wind_mask = df.wind_speed < 10\n",
    "cloud_mask = df.cloudiness == 0\n",
    "all_mask = temp_mask & wind_mask & cloud_mask\n",
    "\n",
    "# Create data frame with ideal weather conditions\n",
    "ideal_cities = df.loc[all_mask].reset_index(drop=True)\n",
    "ideal_cities"
   ]
  },
  {
   "cell_type": "code",
   "execution_count": 88,
   "metadata": {},
   "outputs": [
    {
     "data": {
      "application/vnd.jupyter.widget-view+json": {
       "model_id": "9b6f56914bec43fab95102e60fbe34ed",
       "version_major": 2,
       "version_minor": 0
      },
      "text/plain": [
       "Figure(layout=FigureLayout(border='1px solid black', height='600px', margin='0 auto 0 auto', padding='1px', wi…"
      ]
     },
     "metadata": {},
     "output_type": "display_data"
    }
   ],
   "source": [
    "# Customize the size of the figure\n",
    "figure_layout = {\n",
    "    'width': '800px',\n",
    "    'height': '600px',\n",
    "    'border': '1px solid black',\n",
    "    'padding': '1px',\n",
    "    'margin': '0 auto 0 auto'\n",
    "}\n",
    "fig = gmaps.figure(map_type=\"HYBRID\", layout=figure_layout)\n",
    "\n",
    "coordinates = ideal_cities[[\"latitude\", \"longitude\"]]\n",
    "\n",
    "# Assign the marker layer to a variable\n",
    "markers = gmaps.marker_layer(coordinates)\n",
    "# Add the layer to the map\n",
    "fig.add_layer(markers)\n",
    "fig"
   ]
  },
  {
   "cell_type": "code",
   "execution_count": 90,
   "metadata": {},
   "outputs": [],
   "source": [
    "# Set up info box for the city markers\n",
    "city_info = []\n",
    "\n",
    "#for loop to get hotel data for info box\n",
    "for indx, row in ideal_cities.iterrows():\n",
    "    info_box = f\"\"\"\n",
    "                <dl>\n",
    "                <dt>Name</dt><dd>{row.cities}</dd>\n",
    "                <dt>Temp</dt><dd>{row.temperature}</dd>\n",
    "                <dt>Cloudiness</dt><dd>{row.cloudiness}%</dd>\n",
    "                </dl>\n",
    "                \"\"\"\n",
    "    \n",
    "    city_info.append(info_box)"
   ]
  },
  {
   "cell_type": "code",
   "execution_count": 91,
   "metadata": {},
   "outputs": [
    {
     "data": {
      "application/vnd.jupyter.widget-view+json": {
       "model_id": "59dafbe44fd04c82b188aa766ab2b8a4",
       "version_major": 2,
       "version_minor": 0
      },
      "text/plain": [
       "Figure(layout=FigureLayout(border='1px solid black', height='600px', margin='0 auto 0 auto', padding='1px', wi…"
      ]
     },
     "metadata": {},
     "output_type": "display_data"
    }
   ],
   "source": [
    "# Customize the size of the map figure with markers and info box\n",
    "figure_layout = {\n",
    "    'width': '800px',\n",
    "    'height': '600px',\n",
    "    'border': '1px solid black',\n",
    "    'padding': '1px',\n",
    "    'margin': '0 auto 0 auto'\n",
    "}\n",
    "\n",
    "fig = gmaps.figure(map_type=\"HYBRID\", layout=figure_layout)\n",
    "\n",
    "coordinates = ideal_cities[[\"latitude\", \"longitude\"]]\n",
    "\n",
    "# Setup marker and info box\n",
    "marker_layer = gmaps.marker_layer(coordinates, info_box_content=city_info)\n",
    "fig.add_layer(marker_layer)\n",
    "fig"
   ]
  },
  {
   "cell_type": "markdown",
   "metadata": {},
   "source": [
    "### Hotel Map\n",
    "* Store into variable named `hotel_df`.\n",
    "* Add a \"Hotel Name\" column to the DataFrame.\n",
    "* Set parameters to search for hotels with 5000 meters.\n",
    "* Hit the Google Places API for each city's coordinates.\n",
    "* Store the first Hotel result into the DataFrame.\n",
    "* Plot markers on top of the heatmap."
   ]
  },
  {
   "cell_type": "code",
   "execution_count": 110,
   "metadata": {},
   "outputs": [
    {
     "data": {
      "text/html": [
       "<div>\n",
       "<style scoped>\n",
       "    .dataframe tbody tr th:only-of-type {\n",
       "        vertical-align: middle;\n",
       "    }\n",
       "\n",
       "    .dataframe tbody tr th {\n",
       "        vertical-align: top;\n",
       "    }\n",
       "\n",
       "    .dataframe thead th {\n",
       "        text-align: right;\n",
       "    }\n",
       "</style>\n",
       "<table border=\"1\" class=\"dataframe\">\n",
       "  <thead>\n",
       "    <tr style=\"text-align: right;\">\n",
       "      <th></th>\n",
       "      <th>cities</th>\n",
       "      <th>latitude</th>\n",
       "      <th>longitude</th>\n",
       "      <th>temperature</th>\n",
       "      <th>humidity</th>\n",
       "      <th>pressure</th>\n",
       "      <th>wind_speed</th>\n",
       "      <th>cloudiness</th>\n",
       "    </tr>\n",
       "  </thead>\n",
       "  <tbody>\n",
       "    <tr>\n",
       "      <td>0</td>\n",
       "      <td>pasan</td>\n",
       "      <td>22.85</td>\n",
       "      <td>82.2</td>\n",
       "      <td>76.95</td>\n",
       "      <td>36</td>\n",
       "      <td>1007</td>\n",
       "      <td>3.38</td>\n",
       "      <td>0</td>\n",
       "    </tr>\n",
       "  </tbody>\n",
       "</table>\n",
       "</div>"
      ],
      "text/plain": [
       "  cities  latitude  longitude  temperature  humidity  pressure  wind_speed  \\\n",
       "0  pasan     22.85       82.2        76.95        36      1007        3.38   \n",
       "\n",
       "   cloudiness  \n",
       "0           0  "
      ]
     },
     "execution_count": 110,
     "metadata": {},
     "output_type": "execute_result"
    }
   ],
   "source": [
    "# Get first item \n",
    "ideal_cities.head(1)"
   ]
  },
  {
   "cell_type": "code",
   "execution_count": 132,
   "metadata": {},
   "outputs": [
    {
     "name": "stdout",
     "output_type": "stream",
     "text": [
      "Saudi Arabia\n"
     ]
    }
   ],
   "source": [
    "# Set up a parameters dictionary\n",
    "params = {\"key\": g_key}\n",
    "\n",
    "#base url\n",
    "base_url = \"https://maps.googleapis.com/maps/api/geocode/json\"\n",
    "\n",
    "# Extract latitude and longitude\n",
    "lat = ideal_cities[\"latitude\"][1]\n",
    "lng = ideal_cities[\"longitude\"][1]\n",
    "\n",
    "# Update address key value\n",
    "params['latlng'] = f\"{lat},{lng}\"\n",
    "\n",
    "# make request using params dictionary\n",
    "hotel = requests.get(base_url, params=params)\n",
    "\n",
    "# Get first item\n",
    "hotel = hotel.json()\n",
    "hotel[\"results\"][0][\"address_components\"]\n",
    "\n",
    "#Loop to get country name\n",
    "for addressComp in hotel[\"results\"][0][\"address_components\"]:\n",
    "    if addressComp[\"types\"][0] == \"country\":\n",
    "        print(addressComp[\"long_name\"])"
   ]
  },
  {
   "cell_type": "code",
   "execution_count": 136,
   "metadata": {},
   "outputs": [],
   "source": [
    "# Create function to get country for each city\n",
    "def getCountryForCity(lat, long):    \n",
    "    rtnCountry = \"\"\n",
    "    \n",
    "    # Set up a parameters dictionary    \n",
    "    params = {\"key\": g_key}\n",
    "\n",
    "    # base url\n",
    "    base_url = \"https://maps.googleapis.com/maps/api/geocode/json\"\n",
    "\n",
    "    # Extract latitude and longitude\n",
    "    lat = ideal_cities[\"latitude\"][indx]\n",
    "    lng = ideal_cities[\"longitude\"][indx]\n",
    "\n",
    "    # update address key value\n",
    "    params['latlng'] = f\"{lat},{lng}\"\n",
    "\n",
    "    # make request\n",
    "    hotel = requests.get(base_url, params=params)\n",
    "\n",
    "    hotel = hotel.json()\n",
    "    hotel[\"results\"][0][\"address_components\"]\n",
    "\n",
    "\n",
    "    for addressComp in hotel[\"results\"][0][\"address_components\"]:\n",
    "        if addressComp[\"types\"][0] == \"country\":\n",
    "            rtnCountry = addressComp[\"long_name\"]\n",
    "            \n",
    "    return rtnCountry"
   ]
  },
  {
   "cell_type": "code",
   "execution_count": 137,
   "metadata": {},
   "outputs": [],
   "source": [
    "# Get countries\n",
    "countries = []\n",
    "for indx, row in ideal_cities.iterrows():\n",
    "    countries.append(getCountryForCity(row.latitude, row.longitude))"
   ]
  },
  {
   "cell_type": "code",
   "execution_count": 119,
   "metadata": {},
   "outputs": [
    {
     "data": {
      "text/plain": [
       "['India',\n",
       " 'Saudi Arabia',\n",
       " 'Cape Verde',\n",
       " 'The Gambia',\n",
       " 'Democratic Republic of the Congo',\n",
       " 'China',\n",
       " 'Angola',\n",
       " 'Saudi Arabia']"
      ]
     },
     "execution_count": 119,
     "metadata": {},
     "output_type": "execute_result"
    }
   ],
   "source": [
    "countries"
   ]
  },
  {
   "cell_type": "code",
   "execution_count": 120,
   "metadata": {},
   "outputs": [
    {
     "data": {
      "text/plain": [
       "'Yadav Hotel'"
      ]
     },
     "execution_count": 120,
     "metadata": {},
     "output_type": "execute_result"
    }
   ],
   "source": [
    "# Set up a parameters dictionary \n",
    "params = {\n",
    "    \"radius\": 5000,\n",
    "    \"types\": \"hotel\",\n",
    "    \"keyword\": \"hotel\",\n",
    "    \"key\": g_key\n",
    "}\n",
    "\n",
    "# Extract latitude and longitude\n",
    "lat = ideal_cities[\"latitude\"][0]\n",
    "lng = ideal_cities[\"longitude\"][0]\n",
    "\n",
    "#set up location parameter\n",
    "params[\"location\"] = f\"{lat},{lng}\"\n",
    "\n",
    "# base url\n",
    "base_url = \"https://maps.googleapis.com/maps/api/place/nearbysearch/json\"\n",
    "\n",
    "# Get hotel name\n",
    "name_address = requests.get(base_url, params=params)\n",
    "name_address = name_address.json()\n",
    "\n",
    "name_address[\"results\"][0][\"name\"]"
   ]
  },
  {
   "cell_type": "code",
   "execution_count": 121,
   "metadata": {},
   "outputs": [
    {
     "data": {
      "text/plain": [
       "{'business_status': 'OPERATIONAL',\n",
       " 'geometry': {'location': {'lat': 22.844035, 'lng': 82.1991015},\n",
       "  'viewport': {'northeast': {'lat': 22.84538777989272,\n",
       "    'lng': 82.20044252989271},\n",
       "   'southwest': {'lat': 22.84268812010728, 'lng': 82.19774287010728}}},\n",
       " 'icon': 'https://maps.gstatic.com/mapfiles/place_api/icons/lodging-71.png',\n",
       " 'id': '474beb01ced60989dac3e3683fd50be556eaf58b',\n",
       " 'name': 'Yadav Hotel',\n",
       " 'place_id': 'ChIJ22vZHvbfhzkRcoBnQ_dKVbA',\n",
       " 'plus_code': {'compound_code': 'R5VX+JJ Pasan, Chhattisgarh, India',\n",
       "  'global_code': '7MJ4R5VX+JJ'},\n",
       " 'rating': 0,\n",
       " 'reference': 'ChIJ22vZHvbfhzkRcoBnQ_dKVbA',\n",
       " 'scope': 'GOOGLE',\n",
       " 'types': ['lodging', 'point_of_interest', 'establishment'],\n",
       " 'user_ratings_total': 0,\n",
       " 'vicinity': 'Pasan'}"
      ]
     },
     "execution_count": 121,
     "metadata": {},
     "output_type": "execute_result"
    }
   ],
   "source": [
    "#Extract info data for first hotel\n",
    "name_address[\"results\"][0]"
   ]
  },
  {
   "cell_type": "code",
   "execution_count": 122,
   "metadata": {},
   "outputs": [
    {
     "name": "stdout",
     "output_type": "stream",
     "text": [
      "Missing field/result... skipping.\n",
      "Missing field/result... skipping.\n"
     ]
    }
   ],
   "source": [
    "# Use the lat/lng we recovered to identify airports\n",
    "names = []\n",
    "addresses = []\n",
    "ratings = []\n",
    "\n",
    "# Set up a parameters dictionary \n",
    "params = {\n",
    "    \"radius\": 5000,\n",
    "    \"types\": \"hotel\",\n",
    "    \"keyword\": \"hotel\",\n",
    "    \"key\": g_key\n",
    "}\n",
    "\n",
    "# For loop to get information for all hotels\n",
    "for index, row in ideal_cities.iterrows():\n",
    "    # get lat, lng from df\n",
    "    lat = row[\"latitude\"]\n",
    "    lng = row[\"longitude\"]\n",
    "\n",
    "    # change location each iteration while leaving original params in place\n",
    "    params[\"location\"] = f\"{lat},{lng}\"\n",
    "\n",
    "    # Use the search term: \"International Airport\" and our lat/lng\n",
    "    base_url = \"https://maps.googleapis.com/maps/api/place/nearbysearch/json\"\n",
    "\n",
    "    # Make request and print url\n",
    "    name_address = requests.get(base_url, params=params)\n",
    "\n",
    "    # Convert to json\n",
    "    name_address = name_address.json()\n",
    "    \n",
    "    # Skip missing fields and continue loop\n",
    "    try:\n",
    "        names.append(name_address[\"results\"][0][\"name\"])\n",
    "        addresses.append(name_address[\"results\"][0][\"vicinity\"])\n",
    "        ratings.append(name_address[\"results\"][0][\"rating\"])\n",
    "    except (KeyError, IndexError):\n",
    "        print(\"Missing field/result... skipping.\")\n",
    "        names.append(\"\")\n",
    "        addresses.append(\"\")\n",
    "        ratings.append(\"\")"
   ]
  },
  {
   "cell_type": "code",
   "execution_count": 123,
   "metadata": {},
   "outputs": [
    {
     "data": {
      "text/plain": [
       "['Yadav Hotel',\n",
       " 'Hilton Makkah Convention Hotel',\n",
       " 'Hotel Ocean View & Restaurante Seafood',\n",
       " '',\n",
       " '',\n",
       " 'Wyndham Grand Plaza Royale Kaidi',\n",
       " 'Hotel ibis Styles Iu Namibe',\n",
       " 'Four Seasons Hotel Riyadh At Kingdom Center']"
      ]
     },
     "execution_count": 123,
     "metadata": {},
     "output_type": "execute_result"
    }
   ],
   "source": [
    "# Call hotel names\n",
    "names"
   ]
  },
  {
   "cell_type": "code",
   "execution_count": 124,
   "metadata": {},
   "outputs": [
    {
     "data": {
      "text/html": [
       "<div>\n",
       "<style scoped>\n",
       "    .dataframe tbody tr th:only-of-type {\n",
       "        vertical-align: middle;\n",
       "    }\n",
       "\n",
       "    .dataframe tbody tr th {\n",
       "        vertical-align: top;\n",
       "    }\n",
       "\n",
       "    .dataframe thead th {\n",
       "        text-align: right;\n",
       "    }\n",
       "</style>\n",
       "<table border=\"1\" class=\"dataframe\">\n",
       "  <thead>\n",
       "    <tr style=\"text-align: right;\">\n",
       "      <th></th>\n",
       "      <th>cities</th>\n",
       "      <th>latitude</th>\n",
       "      <th>longitude</th>\n",
       "      <th>temperature</th>\n",
       "      <th>humidity</th>\n",
       "      <th>pressure</th>\n",
       "      <th>wind_speed</th>\n",
       "      <th>cloudiness</th>\n",
       "      <th>country</th>\n",
       "      <th>hotels</th>\n",
       "      <th>addresses</th>\n",
       "      <th>ratings</th>\n",
       "    </tr>\n",
       "  </thead>\n",
       "  <tbody>\n",
       "    <tr>\n",
       "      <td>0</td>\n",
       "      <td>pasan</td>\n",
       "      <td>22.85</td>\n",
       "      <td>82.20</td>\n",
       "      <td>76.95</td>\n",
       "      <td>36</td>\n",
       "      <td>1007</td>\n",
       "      <td>3.38</td>\n",
       "      <td>0</td>\n",
       "      <td>India</td>\n",
       "      <td>Yadav Hotel</td>\n",
       "      <td>Pasan</td>\n",
       "      <td>0</td>\n",
       "    </tr>\n",
       "    <tr>\n",
       "      <td>1</td>\n",
       "      <td>mecca</td>\n",
       "      <td>21.43</td>\n",
       "      <td>39.83</td>\n",
       "      <td>77.04</td>\n",
       "      <td>23</td>\n",
       "      <td>1008</td>\n",
       "      <td>2.42</td>\n",
       "      <td>0</td>\n",
       "      <td>Saudi Arabia</td>\n",
       "      <td>Hilton Makkah Convention Hotel</td>\n",
       "      <td>Ibrahim Al Khalil, Jabal Omar، Mecca</td>\n",
       "      <td>4.4</td>\n",
       "    </tr>\n",
       "    <tr>\n",
       "      <td>2</td>\n",
       "      <td>sao filipe</td>\n",
       "      <td>14.90</td>\n",
       "      <td>-24.50</td>\n",
       "      <td>77.74</td>\n",
       "      <td>55</td>\n",
       "      <td>1014</td>\n",
       "      <td>9.08</td>\n",
       "      <td>0</td>\n",
       "      <td>Cape Verde</td>\n",
       "      <td>Hotel Ocean View &amp; Restaurante Seafood</td>\n",
       "      <td>Bila Baixo Ilha do Fogo، São Filipe</td>\n",
       "      <td>4.5</td>\n",
       "    </tr>\n",
       "    <tr>\n",
       "      <td>3</td>\n",
       "      <td>nioro</td>\n",
       "      <td>13.35</td>\n",
       "      <td>-15.75</td>\n",
       "      <td>75.07</td>\n",
       "      <td>47</td>\n",
       "      <td>1010</td>\n",
       "      <td>6.49</td>\n",
       "      <td>0</td>\n",
       "      <td>The Gambia</td>\n",
       "      <td></td>\n",
       "      <td></td>\n",
       "      <td></td>\n",
       "    </tr>\n",
       "    <tr>\n",
       "      <td>4</td>\n",
       "      <td>nioki</td>\n",
       "      <td>-2.72</td>\n",
       "      <td>17.68</td>\n",
       "      <td>74.23</td>\n",
       "      <td>73</td>\n",
       "      <td>1010</td>\n",
       "      <td>1.68</td>\n",
       "      <td>0</td>\n",
       "      <td>Democratic Republic of the Congo</td>\n",
       "      <td></td>\n",
       "      <td></td>\n",
       "      <td></td>\n",
       "    </tr>\n",
       "    <tr>\n",
       "      <td>5</td>\n",
       "      <td>chuzhou</td>\n",
       "      <td>32.32</td>\n",
       "      <td>118.30</td>\n",
       "      <td>79.83</td>\n",
       "      <td>65</td>\n",
       "      <td>1008</td>\n",
       "      <td>2.44</td>\n",
       "      <td>0</td>\n",
       "      <td>China</td>\n",
       "      <td>Wyndham Grand Plaza Royale Kaidi</td>\n",
       "      <td>2888 South Nanqiao Road, Chuzhou</td>\n",
       "      <td>4.5</td>\n",
       "    </tr>\n",
       "    <tr>\n",
       "      <td>6</td>\n",
       "      <td>namibe</td>\n",
       "      <td>-15.20</td>\n",
       "      <td>12.15</td>\n",
       "      <td>77.43</td>\n",
       "      <td>58</td>\n",
       "      <td>1011</td>\n",
       "      <td>2.66</td>\n",
       "      <td>0</td>\n",
       "      <td>Angola</td>\n",
       "      <td>Hotel ibis Styles Iu Namibe</td>\n",
       "      <td>Avenida Eduardo Mondlane, Namibe</td>\n",
       "      <td>3.6</td>\n",
       "    </tr>\n",
       "    <tr>\n",
       "      <td>7</td>\n",
       "      <td>riyadh</td>\n",
       "      <td>24.69</td>\n",
       "      <td>46.72</td>\n",
       "      <td>75.20</td>\n",
       "      <td>27</td>\n",
       "      <td>1015</td>\n",
       "      <td>3.36</td>\n",
       "      <td>0</td>\n",
       "      <td>Saudi Arabia</td>\n",
       "      <td>Four Seasons Hotel Riyadh At Kingdom Center</td>\n",
       "      <td>Dist.،، Kingdom Centre, Olaya Street، Riyadh</td>\n",
       "      <td>4.5</td>\n",
       "    </tr>\n",
       "  </tbody>\n",
       "</table>\n",
       "</div>"
      ],
      "text/plain": [
       "       cities  latitude  longitude  temperature  humidity  pressure  \\\n",
       "0       pasan     22.85      82.20        76.95        36      1007   \n",
       "1       mecca     21.43      39.83        77.04        23      1008   \n",
       "2  sao filipe     14.90     -24.50        77.74        55      1014   \n",
       "3       nioro     13.35     -15.75        75.07        47      1010   \n",
       "4       nioki     -2.72      17.68        74.23        73      1010   \n",
       "5     chuzhou     32.32     118.30        79.83        65      1008   \n",
       "6      namibe    -15.20      12.15        77.43        58      1011   \n",
       "7      riyadh     24.69      46.72        75.20        27      1015   \n",
       "\n",
       "   wind_speed  cloudiness                           country  \\\n",
       "0        3.38           0                             India   \n",
       "1        2.42           0                      Saudi Arabia   \n",
       "2        9.08           0                        Cape Verde   \n",
       "3        6.49           0                        The Gambia   \n",
       "4        1.68           0  Democratic Republic of the Congo   \n",
       "5        2.44           0                             China   \n",
       "6        2.66           0                            Angola   \n",
       "7        3.36           0                      Saudi Arabia   \n",
       "\n",
       "                                        hotels  \\\n",
       "0                                  Yadav Hotel   \n",
       "1               Hilton Makkah Convention Hotel   \n",
       "2       Hotel Ocean View & Restaurante Seafood   \n",
       "3                                                \n",
       "4                                                \n",
       "5             Wyndham Grand Plaza Royale Kaidi   \n",
       "6                  Hotel ibis Styles Iu Namibe   \n",
       "7  Four Seasons Hotel Riyadh At Kingdom Center   \n",
       "\n",
       "                                      addresses ratings  \n",
       "0                                         Pasan       0  \n",
       "1          Ibrahim Al Khalil, Jabal Omar، Mecca     4.4  \n",
       "2           Bila Baixo Ilha do Fogo، São Filipe     4.5  \n",
       "3                                                        \n",
       "4                                                        \n",
       "5              2888 South Nanqiao Road, Chuzhou     4.5  \n",
       "6              Avenida Eduardo Mondlane, Namibe     3.6  \n",
       "7  Dist.،، Kingdom Centre, Olaya Street، Riyadh     4.5  "
      ]
     },
     "execution_count": 124,
     "metadata": {},
     "output_type": "execute_result"
    }
   ],
   "source": [
    "# Hotel info data\n",
    "ideal_cities[\"country\"] = countries\n",
    "ideal_cities[\"hotels\"] = names\n",
    "ideal_cities[\"addresses\"] = addresses\n",
    "ideal_cities[\"ratings\"] = ratings\n",
    "\n",
    "ideal_cities"
   ]
  },
  {
   "cell_type": "code",
   "execution_count": 138,
   "metadata": {},
   "outputs": [],
   "source": [
    "# Store latitude and longitude in locations\n",
    "locations = df[[\"latitude\", \"longitude\"]]\n",
    "\n",
    "# Fill NaN values and convert to float\n",
    "humid = df[\"humidity\"]"
   ]
  },
  {
   "cell_type": "code",
   "execution_count": 139,
   "metadata": {},
   "outputs": [],
   "source": [
    "# For loop for info box\n",
    "city_info = []\n",
    "\n",
    "for indx, row in ideal_cities.iterrows():\n",
    "    info_box = f\"\"\"\n",
    "                <dl>\n",
    "                <dt>Hotel Name</dt><dd>{row.hotels}</dd>\n",
    "                <dt>City</dt><dd>{row.cities}</dd>\n",
    "                <dt>Country</dt><dd>{row.country}</dd>\n",
    "                </dl>\n",
    "                \"\"\"\n",
    "    \n",
    "    city_info.append(info_box)"
   ]
  },
  {
   "cell_type": "code",
   "execution_count": 153,
   "metadata": {},
   "outputs": [
    {
     "data": {
      "application/vnd.jupyter.widget-view+json": {
       "model_id": "3274c4cb44c94946b3d3df81e2523494",
       "version_major": 2,
       "version_minor": 0
      },
      "text/plain": [
       "Figure(layout=FigureLayout(border='1px solid black', height='600px', margin='0 auto 0 auto', padding='1px', wi…"
      ]
     },
     "metadata": {},
     "output_type": "display_data"
    }
   ],
   "source": [
    "# Heat map layout\n",
    "figure_layout = {\n",
    "    'width': '800px',\n",
    "    'height': '600px',\n",
    "    'border': '1px solid black',\n",
    "    'padding': '1px',\n",
    "    'margin': '0 auto 0 auto'\n",
    "}\n",
    "\n",
    "# Plot Heatmap\n",
    "fig = gmaps.figure(map_type=\"ROADMAP\", layout=figure_layout)\n",
    "\n",
    "# Create heat layer\n",
    "heat_layer = gmaps.heatmap_layer(locations, weights=humid, dissipating=True)\n",
    "\n",
    "\n",
    "# Add layer\n",
    "fig.add_layer(heat_layer)\n",
    "\n",
    "#add markers and info boxes\n",
    "coordinates = ideal_cities[[\"latitude\", \"longitude\"]]\n",
    "marker_layer = gmaps.marker_layer(coordinates, info_box_content=city_info)\n",
    "fig.add_layer(marker_layer)\n",
    "\n",
    "# Display figure\n",
    "fig"
   ]
  },
  {
   "cell_type": "code",
   "execution_count": null,
   "metadata": {},
   "outputs": [],
   "source": []
  }
 ],
 "metadata": {
  "kernelspec": {
   "display_name": "Python 3",
   "language": "python",
   "name": "python3"
  },
  "language_info": {
   "codemirror_mode": {
    "name": "ipython",
    "version": 3
   },
   "file_extension": ".py",
   "mimetype": "text/x-python",
   "name": "python",
   "nbconvert_exporter": "python",
   "pygments_lexer": "ipython3",
   "version": "3.7.4"
  },
  "latex_envs": {
   "LaTeX_envs_menu_present": true,
   "autoclose": false,
   "autocomplete": true,
   "bibliofile": "biblio.bib",
   "cite_by": "apalike",
   "current_citInitial": 1,
   "eqLabelWithNumbers": true,
   "eqNumInitial": 1,
   "hotkeys": {
    "equation": "Ctrl-E",
    "itemize": "Ctrl-I"
   },
   "labels_anchors": false,
   "latex_user_defs": false,
   "report_style_numbering": false,
   "user_envs_cfg": false
  }
 },
 "nbformat": 4,
 "nbformat_minor": 2
}
