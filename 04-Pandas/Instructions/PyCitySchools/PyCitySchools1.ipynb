{
 "cells": [
  {
   "cell_type": "code",
   "execution_count": 1,
   "metadata": {},
   "outputs": [],
   "source": [
    "import pandas as pd"
   ]
  },
  {
   "cell_type": "code",
   "execution_count": 2,
   "metadata": {},
   "outputs": [],
   "source": [
    "#Path to CSV files\n",
    "school_data_load = \"Resources/schools_complete.csv\"\n",
    "student_data_load = \"Resources/students_complete.csv\" \n",
    "\n",
    "#Read data into pandas and store into DataFrames\n",
    "school_data = pd.read_csv(school_data_load)\n",
    "student_data = pd.read_csv(student_data_load)\n",
    "\n"
   ]
  },
  {
   "cell_type": "code",
   "execution_count": 3,
   "metadata": {},
   "outputs": [
    {
     "data": {
      "text/html": [
       "<div>\n",
       "<style scoped>\n",
       "    .dataframe tbody tr th:only-of-type {\n",
       "        vertical-align: middle;\n",
       "    }\n",
       "\n",
       "    .dataframe tbody tr th {\n",
       "        vertical-align: top;\n",
       "    }\n",
       "\n",
       "    .dataframe thead th {\n",
       "        text-align: right;\n",
       "    }\n",
       "</style>\n",
       "<table border=\"1\" class=\"dataframe\">\n",
       "  <thead>\n",
       "    <tr style=\"text-align: right;\">\n",
       "      <th></th>\n",
       "      <th>Student ID</th>\n",
       "      <th>student_name</th>\n",
       "      <th>gender</th>\n",
       "      <th>grade</th>\n",
       "      <th>school_name</th>\n",
       "      <th>reading_score</th>\n",
       "      <th>math_score</th>\n",
       "    </tr>\n",
       "  </thead>\n",
       "  <tbody>\n",
       "    <tr>\n",
       "      <td>0</td>\n",
       "      <td>0</td>\n",
       "      <td>Paul Bradley</td>\n",
       "      <td>M</td>\n",
       "      <td>9th</td>\n",
       "      <td>Huang High School</td>\n",
       "      <td>66</td>\n",
       "      <td>79</td>\n",
       "    </tr>\n",
       "    <tr>\n",
       "      <td>1</td>\n",
       "      <td>1</td>\n",
       "      <td>Victor Smith</td>\n",
       "      <td>M</td>\n",
       "      <td>12th</td>\n",
       "      <td>Huang High School</td>\n",
       "      <td>94</td>\n",
       "      <td>61</td>\n",
       "    </tr>\n",
       "    <tr>\n",
       "      <td>2</td>\n",
       "      <td>2</td>\n",
       "      <td>Kevin Rodriguez</td>\n",
       "      <td>M</td>\n",
       "      <td>12th</td>\n",
       "      <td>Huang High School</td>\n",
       "      <td>90</td>\n",
       "      <td>60</td>\n",
       "    </tr>\n",
       "    <tr>\n",
       "      <td>3</td>\n",
       "      <td>3</td>\n",
       "      <td>Dr. Richard Scott</td>\n",
       "      <td>M</td>\n",
       "      <td>12th</td>\n",
       "      <td>Huang High School</td>\n",
       "      <td>67</td>\n",
       "      <td>58</td>\n",
       "    </tr>\n",
       "    <tr>\n",
       "      <td>4</td>\n",
       "      <td>4</td>\n",
       "      <td>Bonnie Ray</td>\n",
       "      <td>F</td>\n",
       "      <td>9th</td>\n",
       "      <td>Huang High School</td>\n",
       "      <td>97</td>\n",
       "      <td>84</td>\n",
       "    </tr>\n",
       "  </tbody>\n",
       "</table>\n",
       "</div>"
      ],
      "text/plain": [
       "   Student ID       student_name gender grade        school_name  \\\n",
       "0           0       Paul Bradley      M   9th  Huang High School   \n",
       "1           1       Victor Smith      M  12th  Huang High School   \n",
       "2           2    Kevin Rodriguez      M  12th  Huang High School   \n",
       "3           3  Dr. Richard Scott      M  12th  Huang High School   \n",
       "4           4         Bonnie Ray      F   9th  Huang High School   \n",
       "\n",
       "   reading_score  math_score  \n",
       "0             66          79  \n",
       "1             94          61  \n",
       "2             90          60  \n",
       "3             67          58  \n",
       "4             97          84  "
      ]
     },
     "execution_count": 3,
     "metadata": {},
     "output_type": "execute_result"
    }
   ],
   "source": [
    "student_data.head()"
   ]
  },
  {
   "cell_type": "code",
   "execution_count": 4,
   "metadata": {},
   "outputs": [],
   "source": [
    "# Combine the data into a single dataset\n",
    "school_data_complete = pd.merge(student_data, school_data, how=\"left\", on=[\"school_name\", \"school_name\"])"
   ]
  },
  {
   "cell_type": "code",
   "execution_count": 5,
   "metadata": {},
   "outputs": [
    {
     "data": {
      "text/html": [
       "<div>\n",
       "<style scoped>\n",
       "    .dataframe tbody tr th:only-of-type {\n",
       "        vertical-align: middle;\n",
       "    }\n",
       "\n",
       "    .dataframe tbody tr th {\n",
       "        vertical-align: top;\n",
       "    }\n",
       "\n",
       "    .dataframe thead th {\n",
       "        text-align: right;\n",
       "    }\n",
       "</style>\n",
       "<table border=\"1\" class=\"dataframe\">\n",
       "  <thead>\n",
       "    <tr style=\"text-align: right;\">\n",
       "      <th></th>\n",
       "      <th>School ID</th>\n",
       "      <th>school_name</th>\n",
       "      <th>type</th>\n",
       "      <th>size</th>\n",
       "      <th>budget</th>\n",
       "    </tr>\n",
       "  </thead>\n",
       "  <tbody>\n",
       "    <tr>\n",
       "      <td>0</td>\n",
       "      <td>0</td>\n",
       "      <td>Huang High School</td>\n",
       "      <td>District</td>\n",
       "      <td>2917</td>\n",
       "      <td>1910635</td>\n",
       "    </tr>\n",
       "    <tr>\n",
       "      <td>1</td>\n",
       "      <td>1</td>\n",
       "      <td>Figueroa High School</td>\n",
       "      <td>District</td>\n",
       "      <td>2949</td>\n",
       "      <td>1884411</td>\n",
       "    </tr>\n",
       "    <tr>\n",
       "      <td>2</td>\n",
       "      <td>2</td>\n",
       "      <td>Shelton High School</td>\n",
       "      <td>Charter</td>\n",
       "      <td>1761</td>\n",
       "      <td>1056600</td>\n",
       "    </tr>\n",
       "    <tr>\n",
       "      <td>3</td>\n",
       "      <td>3</td>\n",
       "      <td>Hernandez High School</td>\n",
       "      <td>District</td>\n",
       "      <td>4635</td>\n",
       "      <td>3022020</td>\n",
       "    </tr>\n",
       "    <tr>\n",
       "      <td>4</td>\n",
       "      <td>4</td>\n",
       "      <td>Griffin High School</td>\n",
       "      <td>Charter</td>\n",
       "      <td>1468</td>\n",
       "      <td>917500</td>\n",
       "    </tr>\n",
       "  </tbody>\n",
       "</table>\n",
       "</div>"
      ],
      "text/plain": [
       "   School ID            school_name      type  size   budget\n",
       "0          0      Huang High School  District  2917  1910635\n",
       "1          1   Figueroa High School  District  2949  1884411\n",
       "2          2    Shelton High School   Charter  1761  1056600\n",
       "3          3  Hernandez High School  District  4635  3022020\n",
       "4          4    Griffin High School   Charter  1468   917500"
      ]
     },
     "execution_count": 5,
     "metadata": {},
     "output_type": "execute_result"
    }
   ],
   "source": [
    "school_data.head()\n"
   ]
  },
  {
   "cell_type": "code",
   "execution_count": 6,
   "metadata": {},
   "outputs": [
    {
     "data": {
      "text/plain": [
       "15"
      ]
     },
     "execution_count": 6,
     "metadata": {},
     "output_type": "execute_result"
    }
   ],
   "source": [
    "# Calculate the total number of schools\n",
    "school_count = len(school_data_complete[\"school_name\"].unique())\n",
    "school_count"
   ]
  },
  {
   "cell_type": "code",
   "execution_count": 7,
   "metadata": {},
   "outputs": [
    {
     "data": {
      "text/plain": [
       "39170"
      ]
     },
     "execution_count": 7,
     "metadata": {},
     "output_type": "execute_result"
    }
   ],
   "source": [
    "# Calculate the total number of students\n",
    "student_count = len(school_data_complete[\"student_name\"])\n",
    "student_count"
   ]
  },
  {
   "cell_type": "code",
   "execution_count": 8,
   "metadata": {},
   "outputs": [
    {
     "data": {
      "text/plain": [
       "24649428"
      ]
     },
     "execution_count": 8,
     "metadata": {},
     "output_type": "execute_result"
    }
   ],
   "source": [
    "# Calculate the total budget\n",
    "total_budget = school_data['budget'].sum()\n",
    "total_budget"
   ]
  },
  {
   "cell_type": "code",
   "execution_count": 9,
   "metadata": {},
   "outputs": [
    {
     "data": {
      "text/plain": [
       "78.98537145774827"
      ]
     },
     "execution_count": 9,
     "metadata": {},
     "output_type": "execute_result"
    }
   ],
   "source": [
    "# Calculate the average math score\n",
    "average_math_score = school_data_complete['math_score'].mean()\n",
    "average_math_score\n"
   ]
  },
  {
   "cell_type": "code",
   "execution_count": 10,
   "metadata": {},
   "outputs": [
    {
     "data": {
      "text/plain": [
       "81.87784018381414"
      ]
     },
     "execution_count": 10,
     "metadata": {},
     "output_type": "execute_result"
    }
   ],
   "source": [
    "#Calculate the average reading score\n",
    "average_reading_score = school_data_complete['reading_score'].mean()\n",
    "average_reading_score"
   ]
  },
  {
   "cell_type": "code",
   "execution_count": 11,
   "metadata": {},
   "outputs": [],
   "source": [
    "# Locate students with a passing math score (70 or greater)\n",
    "students_passing_math = school_data_complete.loc[school_data_complete[\"math_score\"] >= 70]\n"
   ]
  },
  {
   "cell_type": "code",
   "execution_count": 12,
   "metadata": {},
   "outputs": [
    {
     "data": {
      "text/plain": [
       "29370"
      ]
     },
     "execution_count": 12,
     "metadata": {},
     "output_type": "execute_result"
    }
   ],
   "source": [
    "# Count of students passing math\n",
    "students_passing_math_count = students_passing_math[\"math_score\"].count()\n",
    "students_passing_math_count"
   ]
  },
  {
   "cell_type": "code",
   "execution_count": 13,
   "metadata": {},
   "outputs": [
    {
     "data": {
      "text/plain": [
       "0.749808526933878"
      ]
     },
     "execution_count": 13,
     "metadata": {},
     "output_type": "execute_result"
    }
   ],
   "source": [
    "# Calculate the percentage of students with a passing math score (70 or greater)\n",
    "percentage_students_passing_math = students_passing_math_count/student_count\n",
    "percentage_students_passing_math"
   ]
  },
  {
   "cell_type": "code",
   "execution_count": 14,
   "metadata": {},
   "outputs": [],
   "source": [
    "# Locate students with a passing math score (70 or greater)\n",
    "students_passing_reading = school_data_complete.loc[school_data_complete[\"reading_score\"] >= 70]\n"
   ]
  },
  {
   "cell_type": "code",
   "execution_count": 15,
   "metadata": {},
   "outputs": [
    {
     "data": {
      "text/plain": [
       "33610"
      ]
     },
     "execution_count": 15,
     "metadata": {},
     "output_type": "execute_result"
    }
   ],
   "source": [
    "# Count of students passing reading\n",
    "students_passing_reading_count = students_passing_reading[\"reading_score\"].count()\n",
    "students_passing_reading_count"
   ]
  },
  {
   "cell_type": "code",
   "execution_count": 16,
   "metadata": {},
   "outputs": [
    {
     "data": {
      "text/plain": [
       "0.8580546336482001"
      ]
     },
     "execution_count": 16,
     "metadata": {},
     "output_type": "execute_result"
    }
   ],
   "source": [
    "# Calculate the percentage of students with a passing math score (70 or greater)\n",
    "percentage_students_passing_reading = students_passing_reading_count/student_count\n",
    "percentage_students_passing_reading"
   ]
  },
  {
   "cell_type": "code",
   "execution_count": 17,
   "metadata": {},
   "outputs": [
    {
     "data": {
      "text/plain": [
       "0.6517232575950983"
      ]
     },
     "execution_count": 17,
     "metadata": {},
     "output_type": "execute_result"
    }
   ],
   "source": [
    "#Calculate the percentage of students who passed math and reading (% Overall Passing)\n",
    "\n",
    "Overall_passing_percentage = student_data[(student_data['math_score'] >= 70) & (student_data['reading_score'] >= 70)]['student_name'].count()/student_count\n",
    "Overall_passing_percentage"
   ]
  },
  {
   "cell_type": "code",
   "execution_count": 18,
   "metadata": {},
   "outputs": [
    {
     "data": {
      "text/html": [
       "<style  type=\"text/css\" >\n",
       "</style><table id=\"T_49219278_8105_11ea_a3b4_287fcf5ae5dc\" ><thead>    <tr>        <th class=\"blank level0\" ></th>        <th class=\"col_heading level0 col0\" >Total Schools</th>        <th class=\"col_heading level0 col1\" >Total Students</th>        <th class=\"col_heading level0 col2\" >Total Budget</th>        <th class=\"col_heading level0 col3\" >Average Math Score</th>        <th class=\"col_heading level0 col4\" >Average Reading Score</th>        <th class=\"col_heading level0 col5\" >% Passing Math</th>        <th class=\"col_heading level0 col6\" >% Passing Reading</th>        <th class=\"col_heading level0 col7\" >% Overall Passing</th>    </tr></thead><tbody>\n",
       "                <tr>\n",
       "                        <th id=\"T_49219278_8105_11ea_a3b4_287fcf5ae5dclevel0_row0\" class=\"row_heading level0 row0\" >0</th>\n",
       "                        <td id=\"T_49219278_8105_11ea_a3b4_287fcf5ae5dcrow0_col0\" class=\"data row0 col0\" >15</td>\n",
       "                        <td id=\"T_49219278_8105_11ea_a3b4_287fcf5ae5dcrow0_col1\" class=\"data row0 col1\" >39170</td>\n",
       "                        <td id=\"T_49219278_8105_11ea_a3b4_287fcf5ae5dcrow0_col2\" class=\"data row0 col2\" >$24,649,428.00</td>\n",
       "                        <td id=\"T_49219278_8105_11ea_a3b4_287fcf5ae5dcrow0_col3\" class=\"data row0 col3\" >79.0</td>\n",
       "                        <td id=\"T_49219278_8105_11ea_a3b4_287fcf5ae5dcrow0_col4\" class=\"data row0 col4\" >81.9</td>\n",
       "                        <td id=\"T_49219278_8105_11ea_a3b4_287fcf5ae5dcrow0_col5\" class=\"data row0 col5\" >75.0%</td>\n",
       "                        <td id=\"T_49219278_8105_11ea_a3b4_287fcf5ae5dcrow0_col6\" class=\"data row0 col6\" >85.8%</td>\n",
       "                        <td id=\"T_49219278_8105_11ea_a3b4_287fcf5ae5dcrow0_col7\" class=\"data row0 col7\" >65.2%</td>\n",
       "            </tr>\n",
       "    </tbody></table>"
      ],
      "text/plain": [
       "<pandas.io.formats.style.Styler at 0x1c7749317c8>"
      ]
     },
     "execution_count": 18,
     "metadata": {},
     "output_type": "execute_result"
    }
   ],
   "source": [
    "#Create a dataframe to hold the above results\n",
    "\n",
    "district_summary = pd.DataFrame({\n",
    "    \n",
    "\"Total Schools\": [school_count],\n",
    "\"Total Students\": [student_count],\n",
    "\"Total Budget\": [total_budget],\n",
    "\"Average Math Score\": [average_math_score],\n",
    "\"Average Reading Score\": [average_reading_score],\n",
    "\"% Passing Math\":[percentage_students_passing_math],\n",
    "\"% Passing Reading\": [percentage_students_passing_reading],\n",
    "\"% Overall Passing\": [Overall_passing_percentage]\n",
    "    \n",
    "})\n",
    "district_summary\n",
    "#format cells\n",
    "\n",
    "district_summary.style.format({\n",
    "    \n",
    "    \"Total Budget\": \"${:,.2f}\",\n",
    "    \"Average Math Score\": \"{:.1f}\",\n",
    "    \"Average Reading Score\": \"{:.1f}\", \n",
    "    \"% Passing Math\": \"{:.1%}\", \n",
    "    \"% Passing Reading\": \"{:.1%}\", \n",
    "    \"% Overall Passing\": \"{:.1%}\"\n",
    "})\n",
    "\n"
   ]
  },
  {
   "cell_type": "code",
   "execution_count": 19,
   "metadata": {},
   "outputs": [
    {
     "data": {
      "text/html": [
       "<div>\n",
       "<style scoped>\n",
       "    .dataframe tbody tr th:only-of-type {\n",
       "        vertical-align: middle;\n",
       "    }\n",
       "\n",
       "    .dataframe tbody tr th {\n",
       "        vertical-align: top;\n",
       "    }\n",
       "\n",
       "    .dataframe thead th {\n",
       "        text-align: right;\n",
       "    }\n",
       "</style>\n",
       "<table border=\"1\" class=\"dataframe\">\n",
       "  <thead>\n",
       "    <tr style=\"text-align: right;\">\n",
       "      <th></th>\n",
       "      <th>Student ID</th>\n",
       "      <th>student_name</th>\n",
       "      <th>gender</th>\n",
       "      <th>grade</th>\n",
       "      <th>reading_score</th>\n",
       "      <th>math_score</th>\n",
       "      <th>School ID</th>\n",
       "      <th>type</th>\n",
       "      <th>size</th>\n",
       "      <th>budget</th>\n",
       "    </tr>\n",
       "    <tr>\n",
       "      <th>school_name</th>\n",
       "      <th></th>\n",
       "      <th></th>\n",
       "      <th></th>\n",
       "      <th></th>\n",
       "      <th></th>\n",
       "      <th></th>\n",
       "      <th></th>\n",
       "      <th></th>\n",
       "      <th></th>\n",
       "      <th></th>\n",
       "    </tr>\n",
       "  </thead>\n",
       "  <tbody>\n",
       "    <tr>\n",
       "      <td>Bailey High School</td>\n",
       "      <td>4976</td>\n",
       "      <td>4976</td>\n",
       "      <td>4976</td>\n",
       "      <td>4976</td>\n",
       "      <td>4976</td>\n",
       "      <td>4976</td>\n",
       "      <td>4976</td>\n",
       "      <td>4976</td>\n",
       "      <td>4976</td>\n",
       "      <td>4976</td>\n",
       "    </tr>\n",
       "    <tr>\n",
       "      <td>Cabrera High School</td>\n",
       "      <td>1858</td>\n",
       "      <td>1858</td>\n",
       "      <td>1858</td>\n",
       "      <td>1858</td>\n",
       "      <td>1858</td>\n",
       "      <td>1858</td>\n",
       "      <td>1858</td>\n",
       "      <td>1858</td>\n",
       "      <td>1858</td>\n",
       "      <td>1858</td>\n",
       "    </tr>\n",
       "    <tr>\n",
       "      <td>Figueroa High School</td>\n",
       "      <td>2949</td>\n",
       "      <td>2949</td>\n",
       "      <td>2949</td>\n",
       "      <td>2949</td>\n",
       "      <td>2949</td>\n",
       "      <td>2949</td>\n",
       "      <td>2949</td>\n",
       "      <td>2949</td>\n",
       "      <td>2949</td>\n",
       "      <td>2949</td>\n",
       "    </tr>\n",
       "    <tr>\n",
       "      <td>Ford High School</td>\n",
       "      <td>2739</td>\n",
       "      <td>2739</td>\n",
       "      <td>2739</td>\n",
       "      <td>2739</td>\n",
       "      <td>2739</td>\n",
       "      <td>2739</td>\n",
       "      <td>2739</td>\n",
       "      <td>2739</td>\n",
       "      <td>2739</td>\n",
       "      <td>2739</td>\n",
       "    </tr>\n",
       "    <tr>\n",
       "      <td>Griffin High School</td>\n",
       "      <td>1468</td>\n",
       "      <td>1468</td>\n",
       "      <td>1468</td>\n",
       "      <td>1468</td>\n",
       "      <td>1468</td>\n",
       "      <td>1468</td>\n",
       "      <td>1468</td>\n",
       "      <td>1468</td>\n",
       "      <td>1468</td>\n",
       "      <td>1468</td>\n",
       "    </tr>\n",
       "    <tr>\n",
       "      <td>Hernandez High School</td>\n",
       "      <td>4635</td>\n",
       "      <td>4635</td>\n",
       "      <td>4635</td>\n",
       "      <td>4635</td>\n",
       "      <td>4635</td>\n",
       "      <td>4635</td>\n",
       "      <td>4635</td>\n",
       "      <td>4635</td>\n",
       "      <td>4635</td>\n",
       "      <td>4635</td>\n",
       "    </tr>\n",
       "    <tr>\n",
       "      <td>Holden High School</td>\n",
       "      <td>427</td>\n",
       "      <td>427</td>\n",
       "      <td>427</td>\n",
       "      <td>427</td>\n",
       "      <td>427</td>\n",
       "      <td>427</td>\n",
       "      <td>427</td>\n",
       "      <td>427</td>\n",
       "      <td>427</td>\n",
       "      <td>427</td>\n",
       "    </tr>\n",
       "    <tr>\n",
       "      <td>Huang High School</td>\n",
       "      <td>2917</td>\n",
       "      <td>2917</td>\n",
       "      <td>2917</td>\n",
       "      <td>2917</td>\n",
       "      <td>2917</td>\n",
       "      <td>2917</td>\n",
       "      <td>2917</td>\n",
       "      <td>2917</td>\n",
       "      <td>2917</td>\n",
       "      <td>2917</td>\n",
       "    </tr>\n",
       "    <tr>\n",
       "      <td>Johnson High School</td>\n",
       "      <td>4761</td>\n",
       "      <td>4761</td>\n",
       "      <td>4761</td>\n",
       "      <td>4761</td>\n",
       "      <td>4761</td>\n",
       "      <td>4761</td>\n",
       "      <td>4761</td>\n",
       "      <td>4761</td>\n",
       "      <td>4761</td>\n",
       "      <td>4761</td>\n",
       "    </tr>\n",
       "    <tr>\n",
       "      <td>Pena High School</td>\n",
       "      <td>962</td>\n",
       "      <td>962</td>\n",
       "      <td>962</td>\n",
       "      <td>962</td>\n",
       "      <td>962</td>\n",
       "      <td>962</td>\n",
       "      <td>962</td>\n",
       "      <td>962</td>\n",
       "      <td>962</td>\n",
       "      <td>962</td>\n",
       "    </tr>\n",
       "    <tr>\n",
       "      <td>Rodriguez High School</td>\n",
       "      <td>3999</td>\n",
       "      <td>3999</td>\n",
       "      <td>3999</td>\n",
       "      <td>3999</td>\n",
       "      <td>3999</td>\n",
       "      <td>3999</td>\n",
       "      <td>3999</td>\n",
       "      <td>3999</td>\n",
       "      <td>3999</td>\n",
       "      <td>3999</td>\n",
       "    </tr>\n",
       "    <tr>\n",
       "      <td>Shelton High School</td>\n",
       "      <td>1761</td>\n",
       "      <td>1761</td>\n",
       "      <td>1761</td>\n",
       "      <td>1761</td>\n",
       "      <td>1761</td>\n",
       "      <td>1761</td>\n",
       "      <td>1761</td>\n",
       "      <td>1761</td>\n",
       "      <td>1761</td>\n",
       "      <td>1761</td>\n",
       "    </tr>\n",
       "    <tr>\n",
       "      <td>Thomas High School</td>\n",
       "      <td>1635</td>\n",
       "      <td>1635</td>\n",
       "      <td>1635</td>\n",
       "      <td>1635</td>\n",
       "      <td>1635</td>\n",
       "      <td>1635</td>\n",
       "      <td>1635</td>\n",
       "      <td>1635</td>\n",
       "      <td>1635</td>\n",
       "      <td>1635</td>\n",
       "    </tr>\n",
       "    <tr>\n",
       "      <td>Wilson High School</td>\n",
       "      <td>2283</td>\n",
       "      <td>2283</td>\n",
       "      <td>2283</td>\n",
       "      <td>2283</td>\n",
       "      <td>2283</td>\n",
       "      <td>2283</td>\n",
       "      <td>2283</td>\n",
       "      <td>2283</td>\n",
       "      <td>2283</td>\n",
       "      <td>2283</td>\n",
       "    </tr>\n",
       "    <tr>\n",
       "      <td>Wright High School</td>\n",
       "      <td>1800</td>\n",
       "      <td>1800</td>\n",
       "      <td>1800</td>\n",
       "      <td>1800</td>\n",
       "      <td>1800</td>\n",
       "      <td>1800</td>\n",
       "      <td>1800</td>\n",
       "      <td>1800</td>\n",
       "      <td>1800</td>\n",
       "      <td>1800</td>\n",
       "    </tr>\n",
       "  </tbody>\n",
       "</table>\n",
       "</div>"
      ],
      "text/plain": [
       "                       Student ID  student_name  gender  grade  reading_score  \\\n",
       "school_name                                                                     \n",
       "Bailey High School           4976          4976    4976   4976           4976   \n",
       "Cabrera High School          1858          1858    1858   1858           1858   \n",
       "Figueroa High School         2949          2949    2949   2949           2949   \n",
       "Ford High School             2739          2739    2739   2739           2739   \n",
       "Griffin High School          1468          1468    1468   1468           1468   \n",
       "Hernandez High School        4635          4635    4635   4635           4635   \n",
       "Holden High School            427           427     427    427            427   \n",
       "Huang High School            2917          2917    2917   2917           2917   \n",
       "Johnson High School          4761          4761    4761   4761           4761   \n",
       "Pena High School              962           962     962    962            962   \n",
       "Rodriguez High School        3999          3999    3999   3999           3999   \n",
       "Shelton High School          1761          1761    1761   1761           1761   \n",
       "Thomas High School           1635          1635    1635   1635           1635   \n",
       "Wilson High School           2283          2283    2283   2283           2283   \n",
       "Wright High School           1800          1800    1800   1800           1800   \n",
       "\n",
       "                       math_score  School ID  type  size  budget  \n",
       "school_name                                                       \n",
       "Bailey High School           4976       4976  4976  4976    4976  \n",
       "Cabrera High School          1858       1858  1858  1858    1858  \n",
       "Figueroa High School         2949       2949  2949  2949    2949  \n",
       "Ford High School             2739       2739  2739  2739    2739  \n",
       "Griffin High School          1468       1468  1468  1468    1468  \n",
       "Hernandez High School        4635       4635  4635  4635    4635  \n",
       "Holden High School            427        427   427   427     427  \n",
       "Huang High School            2917       2917  2917  2917    2917  \n",
       "Johnson High School          4761       4761  4761  4761    4761  \n",
       "Pena High School              962        962   962   962     962  \n",
       "Rodriguez High School        3999       3999  3999  3999    3999  \n",
       "Shelton High School          1761       1761  1761  1761    1761  \n",
       "Thomas High School           1635       1635  1635  1635    1635  \n",
       "Wilson High School           2283       2283  2283  2283    2283  \n",
       "Wright High School           1800       1800  1800  1800    1800  "
      ]
     },
     "execution_count": 19,
     "metadata": {},
     "output_type": "execute_result"
    }
   ],
   "source": [
    "#group by school\n",
    "group_of_schools = school_data_complete.set_index('school_name').groupby(['school_name']) \n",
    "group_of_schools.count()"
   ]
  },
  {
   "cell_type": "code",
   "execution_count": 20,
   "metadata": {},
   "outputs": [
    {
     "data": {
      "text/plain": [
       "array(['Huang High School', 'Figueroa High School', 'Shelton High School',\n",
       "       'Hernandez High School', 'Griffin High School',\n",
       "       'Wilson High School', 'Cabrera High School', 'Bailey High School',\n",
       "       'Holden High School', 'Pena High School', 'Wright High School',\n",
       "       'Rodriguez High School', 'Johnson High School', 'Ford High School',\n",
       "       'Thomas High School'], dtype=object)"
      ]
     },
     "execution_count": 20,
     "metadata": {},
     "output_type": "execute_result"
    }
   ],
   "source": [
    "#create array of unique school names\n",
    "unique_school_names = school_data['school_name'].unique()\n",
    "unique_school_names"
   ]
  },
  {
   "cell_type": "code",
   "execution_count": 21,
   "metadata": {},
   "outputs": [
    {
     "data": {
      "text/plain": [
       "school_name\n",
       "Huang High School        District\n",
       "Figueroa High School     District\n",
       "Shelton High School       Charter\n",
       "Hernandez High School    District\n",
       "Griffin High School       Charter\n",
       "Wilson High School        Charter\n",
       "Cabrera High School       Charter\n",
       "Bailey High School       District\n",
       "Holden High School        Charter\n",
       "Pena High School          Charter\n",
       "Wright High School        Charter\n",
       "Rodriguez High School    District\n",
       "Johnson High School      District\n",
       "Ford High School         District\n",
       "Thomas High School        Charter\n",
       "Name: type, dtype: object"
      ]
     },
     "execution_count": 21,
     "metadata": {},
     "output_type": "execute_result"
    }
   ],
   "source": [
    "#school types\n",
    "\n",
    "school_types = school_data.set_index('school_name')['type']\n",
    "school_types\n",
    "\n"
   ]
  },
  {
   "cell_type": "code",
   "execution_count": 22,
   "metadata": {},
   "outputs": [
    {
     "data": {
      "text/plain": [
       "school_name\n",
       "Bailey High School       4976\n",
       "Cabrera High School      1858\n",
       "Figueroa High School     2949\n",
       "Ford High School         2739\n",
       "Griffin High School      1468\n",
       "Hernandez High School    4635\n",
       "Holden High School        427\n",
       "Huang High School        2917\n",
       "Johnson High School      4761\n",
       "Pena High School          962\n",
       "Rodriguez High School    3999\n",
       "Shelton High School      1761\n",
       "Thomas High School       1635\n",
       "Wilson High School       2283\n",
       "Wright High School       1800\n",
       "Name: Student ID, dtype: int64"
      ]
     },
     "execution_count": 22,
     "metadata": {},
     "output_type": "execute_result"
    }
   ],
   "source": [
    "# total students by school\n",
    "stu_per_school = group_of_schools['Student ID'].count()\n",
    "stu_per_school"
   ]
  },
  {
   "cell_type": "code",
   "execution_count": 23,
   "metadata": {},
   "outputs": [
    {
     "data": {
      "text/plain": [
       "school_name\n",
       "Huang High School        1910635\n",
       "Figueroa High School     1884411\n",
       "Shelton High School      1056600\n",
       "Hernandez High School    3022020\n",
       "Griffin High School       917500\n",
       "Wilson High School       1319574\n",
       "Cabrera High School      1081356\n",
       "Bailey High School       3124928\n",
       "Holden High School        248087\n",
       "Pena High School          585858\n",
       "Wright High School       1049400\n",
       "Rodriguez High School    2547363\n",
       "Johnson High School      3094650\n",
       "Ford High School         1763916\n",
       "Thomas High School       1043130\n",
       "Name: budget, dtype: int64"
      ]
     },
     "execution_count": 23,
     "metadata": {},
     "output_type": "execute_result"
    }
   ],
   "source": [
    "#Total School Budget\n",
    "school_budget = school_data.set_index('school_name')['budget']\n",
    "school_budget\n"
   ]
  },
  {
   "cell_type": "code",
   "execution_count": 24,
   "metadata": {},
   "outputs": [
    {
     "data": {
      "text/plain": [
       "school_name\n",
       "Huang High School        655.0\n",
       "Figueroa High School     639.0\n",
       "Shelton High School      600.0\n",
       "Hernandez High School    652.0\n",
       "Griffin High School      625.0\n",
       "Wilson High School       578.0\n",
       "Cabrera High School      582.0\n",
       "Bailey High School       628.0\n",
       "Holden High School       581.0\n",
       "Pena High School         609.0\n",
       "Wright High School       583.0\n",
       "Rodriguez High School    637.0\n",
       "Johnson High School      650.0\n",
       "Ford High School         644.0\n",
       "Thomas High School       638.0\n",
       "dtype: float64"
      ]
     },
     "execution_count": 24,
     "metadata": {},
     "output_type": "execute_result"
    }
   ],
   "source": [
    "#Per Student Budget\n",
    "stu_budget = school_data.set_index('school_name')['budget']/school_data.set_index('school_name')['size']\n",
    "stu_budget"
   ]
  },
  {
   "cell_type": "code",
   "execution_count": 25,
   "metadata": {},
   "outputs": [
    {
     "data": {
      "text/plain": [
       "school_name\n",
       "Bailey High School       81.033963\n",
       "Cabrera High School      83.975780\n",
       "Figueroa High School     81.158020\n",
       "Ford High School         80.746258\n",
       "Griffin High School      83.816757\n",
       "Hernandez High School    80.934412\n",
       "Holden High School       83.814988\n",
       "Huang High School        81.182722\n",
       "Johnson High School      80.966394\n",
       "Pena High School         84.044699\n",
       "Rodriguez High School    80.744686\n",
       "Shelton High School      83.725724\n",
       "Thomas High School       83.848930\n",
       "Wilson High School       83.989488\n",
       "Wright High School       83.955000\n",
       "Name: reading_score, dtype: float64"
      ]
     },
     "execution_count": 25,
     "metadata": {},
     "output_type": "execute_result"
    }
   ],
   "source": [
    "#Average Math and Reading Scores\n",
    "\n",
    "avg_math = group_of_schools['math_score'].mean()\n",
    "avg_read = group_of_schools['reading_score'].mean()\n",
    "\n",
    "avg_math\n",
    "avg_read"
   ]
  },
  {
   "cell_type": "code",
   "execution_count": 26,
   "metadata": {},
   "outputs": [
    {
     "data": {
      "text/plain": [
       "school_name\n",
       "Bailey High School       0.819333\n",
       "Cabrera High School      0.970398\n",
       "Figueroa High School     0.807392\n",
       "Ford High School         0.792990\n",
       "Griffin High School      0.971390\n",
       "Hernandez High School    0.808630\n",
       "Holden High School       0.962529\n",
       "Huang High School        0.813164\n",
       "Johnson High School      0.812224\n",
       "Pena High School         0.959459\n",
       "Rodriguez High School    0.802201\n",
       "Shelton High School      0.958546\n",
       "Thomas High School       0.973089\n",
       "Wilson High School       0.965396\n",
       "Wright High School       0.966111\n",
       "Name: Student ID, dtype: float64"
      ]
     },
     "execution_count": 26,
     "metadata": {},
     "output_type": "execute_result"
    }
   ],
   "source": [
    "pass_math_score = student_data[student_data['math_score'] >= 70].groupby('school_name')['Student ID'].count()/stu_per_school\n",
    "pass_read_score = student_data[student_data['reading_score'] >= 70].groupby('school_name')['Student ID'].count()/stu_per_school\n",
    "pass_read_score"
   ]
  },
  {
   "cell_type": "code",
   "execution_count": 28,
   "metadata": {},
   "outputs": [
    {
     "data": {
      "text/plain": [
       "school_name\n",
       "Bailey High School       0.546423\n",
       "Cabrera High School      0.913348\n",
       "Figueroa High School     0.532045\n",
       "Ford High School         0.542899\n",
       "Griffin High School      0.905995\n",
       "Hernandez High School    0.535275\n",
       "Holden High School       0.892272\n",
       "Huang High School        0.535139\n",
       "Johnson High School      0.535392\n",
       "Pena High School         0.905405\n",
       "Rodriguez High School    0.529882\n",
       "Shelton High School      0.898921\n",
       "Thomas High School       0.909480\n",
       "Wilson High School       0.905826\n",
       "Wright High School       0.903333\n",
       "Name: Student ID, dtype: float64"
      ]
     },
     "execution_count": 28,
     "metadata": {},
     "output_type": "execute_result"
    }
   ],
   "source": [
    "# Overall Passing \n",
    "\n",
    "overall_passing = student_data[(student_data['reading_score'] >= 70) & (student_data['math_score'] >= 70)].groupby('school_name')['Student ID'].count()/stu_per_school \n",
    "overall_passing"
   ]
  },
  {
   "cell_type": "code",
   "execution_count": 33,
   "metadata": {},
   "outputs": [
    {
     "data": {
      "text/html": [
       "<style  type=\"text/css\" >\n",
       "</style><table id=\"T_b20a3508_8105_11ea_981b_287fcf5ae5dc\" ><thead>    <tr>        <th class=\"blank level0\" ></th>        <th class=\"col_heading level0 col0\" >School Type</th>        <th class=\"col_heading level0 col1\" >Total Students</th>        <th class=\"col_heading level0 col2\" >Total School Budget</th>        <th class=\"col_heading level0 col3\" >Per Student Budget</th>        <th class=\"col_heading level0 col4\" >Average Math Score</th>        <th class=\"col_heading level0 col5\" >Average Reading Score</th>        <th class=\"col_heading level0 col6\" >% Passing Math</th>        <th class=\"col_heading level0 col7\" >% Passing Reading</th>        <th class=\"col_heading level0 col8\" >% Overall Passing</th>    </tr></thead><tbody>\n",
       "                <tr>\n",
       "                        <th id=\"T_b20a3508_8105_11ea_981b_287fcf5ae5dclevel0_row0\" class=\"row_heading level0 row0\" >Bailey High School</th>\n",
       "                        <td id=\"T_b20a3508_8105_11ea_981b_287fcf5ae5dcrow0_col0\" class=\"data row0 col0\" >District</td>\n",
       "                        <td id=\"T_b20a3508_8105_11ea_981b_287fcf5ae5dcrow0_col1\" class=\"data row0 col1\" >4,976</td>\n",
       "                        <td id=\"T_b20a3508_8105_11ea_981b_287fcf5ae5dcrow0_col2\" class=\"data row0 col2\" >$3,124,928</td>\n",
       "                        <td id=\"T_b20a3508_8105_11ea_981b_287fcf5ae5dcrow0_col3\" class=\"data row0 col3\" >$628</td>\n",
       "                        <td id=\"T_b20a3508_8105_11ea_981b_287fcf5ae5dcrow0_col4\" class=\"data row0 col4\" >77.0</td>\n",
       "                        <td id=\"T_b20a3508_8105_11ea_981b_287fcf5ae5dcrow0_col5\" class=\"data row0 col5\" >81.0</td>\n",
       "                        <td id=\"T_b20a3508_8105_11ea_981b_287fcf5ae5dcrow0_col6\" class=\"data row0 col6\" >66.7%</td>\n",
       "                        <td id=\"T_b20a3508_8105_11ea_981b_287fcf5ae5dcrow0_col7\" class=\"data row0 col7\" >81.9%</td>\n",
       "                        <td id=\"T_b20a3508_8105_11ea_981b_287fcf5ae5dcrow0_col8\" class=\"data row0 col8\" >0.546423</td>\n",
       "            </tr>\n",
       "            <tr>\n",
       "                        <th id=\"T_b20a3508_8105_11ea_981b_287fcf5ae5dclevel0_row1\" class=\"row_heading level0 row1\" >Cabrera High School</th>\n",
       "                        <td id=\"T_b20a3508_8105_11ea_981b_287fcf5ae5dcrow1_col0\" class=\"data row1 col0\" >Charter</td>\n",
       "                        <td id=\"T_b20a3508_8105_11ea_981b_287fcf5ae5dcrow1_col1\" class=\"data row1 col1\" >1,858</td>\n",
       "                        <td id=\"T_b20a3508_8105_11ea_981b_287fcf5ae5dcrow1_col2\" class=\"data row1 col2\" >$1,081,356</td>\n",
       "                        <td id=\"T_b20a3508_8105_11ea_981b_287fcf5ae5dcrow1_col3\" class=\"data row1 col3\" >$582</td>\n",
       "                        <td id=\"T_b20a3508_8105_11ea_981b_287fcf5ae5dcrow1_col4\" class=\"data row1 col4\" >83.1</td>\n",
       "                        <td id=\"T_b20a3508_8105_11ea_981b_287fcf5ae5dcrow1_col5\" class=\"data row1 col5\" >84.0</td>\n",
       "                        <td id=\"T_b20a3508_8105_11ea_981b_287fcf5ae5dcrow1_col6\" class=\"data row1 col6\" >94.1%</td>\n",
       "                        <td id=\"T_b20a3508_8105_11ea_981b_287fcf5ae5dcrow1_col7\" class=\"data row1 col7\" >97.0%</td>\n",
       "                        <td id=\"T_b20a3508_8105_11ea_981b_287fcf5ae5dcrow1_col8\" class=\"data row1 col8\" >0.913348</td>\n",
       "            </tr>\n",
       "            <tr>\n",
       "                        <th id=\"T_b20a3508_8105_11ea_981b_287fcf5ae5dclevel0_row2\" class=\"row_heading level0 row2\" >Figueroa High School</th>\n",
       "                        <td id=\"T_b20a3508_8105_11ea_981b_287fcf5ae5dcrow2_col0\" class=\"data row2 col0\" >District</td>\n",
       "                        <td id=\"T_b20a3508_8105_11ea_981b_287fcf5ae5dcrow2_col1\" class=\"data row2 col1\" >2,949</td>\n",
       "                        <td id=\"T_b20a3508_8105_11ea_981b_287fcf5ae5dcrow2_col2\" class=\"data row2 col2\" >$1,884,411</td>\n",
       "                        <td id=\"T_b20a3508_8105_11ea_981b_287fcf5ae5dcrow2_col3\" class=\"data row2 col3\" >$639</td>\n",
       "                        <td id=\"T_b20a3508_8105_11ea_981b_287fcf5ae5dcrow2_col4\" class=\"data row2 col4\" >76.7</td>\n",
       "                        <td id=\"T_b20a3508_8105_11ea_981b_287fcf5ae5dcrow2_col5\" class=\"data row2 col5\" >81.2</td>\n",
       "                        <td id=\"T_b20a3508_8105_11ea_981b_287fcf5ae5dcrow2_col6\" class=\"data row2 col6\" >66.0%</td>\n",
       "                        <td id=\"T_b20a3508_8105_11ea_981b_287fcf5ae5dcrow2_col7\" class=\"data row2 col7\" >80.7%</td>\n",
       "                        <td id=\"T_b20a3508_8105_11ea_981b_287fcf5ae5dcrow2_col8\" class=\"data row2 col8\" >0.532045</td>\n",
       "            </tr>\n",
       "            <tr>\n",
       "                        <th id=\"T_b20a3508_8105_11ea_981b_287fcf5ae5dclevel0_row3\" class=\"row_heading level0 row3\" >Ford High School</th>\n",
       "                        <td id=\"T_b20a3508_8105_11ea_981b_287fcf5ae5dcrow3_col0\" class=\"data row3 col0\" >District</td>\n",
       "                        <td id=\"T_b20a3508_8105_11ea_981b_287fcf5ae5dcrow3_col1\" class=\"data row3 col1\" >2,739</td>\n",
       "                        <td id=\"T_b20a3508_8105_11ea_981b_287fcf5ae5dcrow3_col2\" class=\"data row3 col2\" >$1,763,916</td>\n",
       "                        <td id=\"T_b20a3508_8105_11ea_981b_287fcf5ae5dcrow3_col3\" class=\"data row3 col3\" >$644</td>\n",
       "                        <td id=\"T_b20a3508_8105_11ea_981b_287fcf5ae5dcrow3_col4\" class=\"data row3 col4\" >77.1</td>\n",
       "                        <td id=\"T_b20a3508_8105_11ea_981b_287fcf5ae5dcrow3_col5\" class=\"data row3 col5\" >80.7</td>\n",
       "                        <td id=\"T_b20a3508_8105_11ea_981b_287fcf5ae5dcrow3_col6\" class=\"data row3 col6\" >68.3%</td>\n",
       "                        <td id=\"T_b20a3508_8105_11ea_981b_287fcf5ae5dcrow3_col7\" class=\"data row3 col7\" >79.3%</td>\n",
       "                        <td id=\"T_b20a3508_8105_11ea_981b_287fcf5ae5dcrow3_col8\" class=\"data row3 col8\" >0.542899</td>\n",
       "            </tr>\n",
       "            <tr>\n",
       "                        <th id=\"T_b20a3508_8105_11ea_981b_287fcf5ae5dclevel0_row4\" class=\"row_heading level0 row4\" >Griffin High School</th>\n",
       "                        <td id=\"T_b20a3508_8105_11ea_981b_287fcf5ae5dcrow4_col0\" class=\"data row4 col0\" >Charter</td>\n",
       "                        <td id=\"T_b20a3508_8105_11ea_981b_287fcf5ae5dcrow4_col1\" class=\"data row4 col1\" >1,468</td>\n",
       "                        <td id=\"T_b20a3508_8105_11ea_981b_287fcf5ae5dcrow4_col2\" class=\"data row4 col2\" >$917,500</td>\n",
       "                        <td id=\"T_b20a3508_8105_11ea_981b_287fcf5ae5dcrow4_col3\" class=\"data row4 col3\" >$625</td>\n",
       "                        <td id=\"T_b20a3508_8105_11ea_981b_287fcf5ae5dcrow4_col4\" class=\"data row4 col4\" >83.4</td>\n",
       "                        <td id=\"T_b20a3508_8105_11ea_981b_287fcf5ae5dcrow4_col5\" class=\"data row4 col5\" >83.8</td>\n",
       "                        <td id=\"T_b20a3508_8105_11ea_981b_287fcf5ae5dcrow4_col6\" class=\"data row4 col6\" >93.4%</td>\n",
       "                        <td id=\"T_b20a3508_8105_11ea_981b_287fcf5ae5dcrow4_col7\" class=\"data row4 col7\" >97.1%</td>\n",
       "                        <td id=\"T_b20a3508_8105_11ea_981b_287fcf5ae5dcrow4_col8\" class=\"data row4 col8\" >0.905995</td>\n",
       "            </tr>\n",
       "            <tr>\n",
       "                        <th id=\"T_b20a3508_8105_11ea_981b_287fcf5ae5dclevel0_row5\" class=\"row_heading level0 row5\" >Hernandez High School</th>\n",
       "                        <td id=\"T_b20a3508_8105_11ea_981b_287fcf5ae5dcrow5_col0\" class=\"data row5 col0\" >District</td>\n",
       "                        <td id=\"T_b20a3508_8105_11ea_981b_287fcf5ae5dcrow5_col1\" class=\"data row5 col1\" >4,635</td>\n",
       "                        <td id=\"T_b20a3508_8105_11ea_981b_287fcf5ae5dcrow5_col2\" class=\"data row5 col2\" >$3,022,020</td>\n",
       "                        <td id=\"T_b20a3508_8105_11ea_981b_287fcf5ae5dcrow5_col3\" class=\"data row5 col3\" >$652</td>\n",
       "                        <td id=\"T_b20a3508_8105_11ea_981b_287fcf5ae5dcrow5_col4\" class=\"data row5 col4\" >77.3</td>\n",
       "                        <td id=\"T_b20a3508_8105_11ea_981b_287fcf5ae5dcrow5_col5\" class=\"data row5 col5\" >80.9</td>\n",
       "                        <td id=\"T_b20a3508_8105_11ea_981b_287fcf5ae5dcrow5_col6\" class=\"data row5 col6\" >66.8%</td>\n",
       "                        <td id=\"T_b20a3508_8105_11ea_981b_287fcf5ae5dcrow5_col7\" class=\"data row5 col7\" >80.9%</td>\n",
       "                        <td id=\"T_b20a3508_8105_11ea_981b_287fcf5ae5dcrow5_col8\" class=\"data row5 col8\" >0.535275</td>\n",
       "            </tr>\n",
       "            <tr>\n",
       "                        <th id=\"T_b20a3508_8105_11ea_981b_287fcf5ae5dclevel0_row6\" class=\"row_heading level0 row6\" >Holden High School</th>\n",
       "                        <td id=\"T_b20a3508_8105_11ea_981b_287fcf5ae5dcrow6_col0\" class=\"data row6 col0\" >Charter</td>\n",
       "                        <td id=\"T_b20a3508_8105_11ea_981b_287fcf5ae5dcrow6_col1\" class=\"data row6 col1\" >427</td>\n",
       "                        <td id=\"T_b20a3508_8105_11ea_981b_287fcf5ae5dcrow6_col2\" class=\"data row6 col2\" >$248,087</td>\n",
       "                        <td id=\"T_b20a3508_8105_11ea_981b_287fcf5ae5dcrow6_col3\" class=\"data row6 col3\" >$581</td>\n",
       "                        <td id=\"T_b20a3508_8105_11ea_981b_287fcf5ae5dcrow6_col4\" class=\"data row6 col4\" >83.8</td>\n",
       "                        <td id=\"T_b20a3508_8105_11ea_981b_287fcf5ae5dcrow6_col5\" class=\"data row6 col5\" >83.8</td>\n",
       "                        <td id=\"T_b20a3508_8105_11ea_981b_287fcf5ae5dcrow6_col6\" class=\"data row6 col6\" >92.5%</td>\n",
       "                        <td id=\"T_b20a3508_8105_11ea_981b_287fcf5ae5dcrow6_col7\" class=\"data row6 col7\" >96.3%</td>\n",
       "                        <td id=\"T_b20a3508_8105_11ea_981b_287fcf5ae5dcrow6_col8\" class=\"data row6 col8\" >0.892272</td>\n",
       "            </tr>\n",
       "            <tr>\n",
       "                        <th id=\"T_b20a3508_8105_11ea_981b_287fcf5ae5dclevel0_row7\" class=\"row_heading level0 row7\" >Huang High School</th>\n",
       "                        <td id=\"T_b20a3508_8105_11ea_981b_287fcf5ae5dcrow7_col0\" class=\"data row7 col0\" >District</td>\n",
       "                        <td id=\"T_b20a3508_8105_11ea_981b_287fcf5ae5dcrow7_col1\" class=\"data row7 col1\" >2,917</td>\n",
       "                        <td id=\"T_b20a3508_8105_11ea_981b_287fcf5ae5dcrow7_col2\" class=\"data row7 col2\" >$1,910,635</td>\n",
       "                        <td id=\"T_b20a3508_8105_11ea_981b_287fcf5ae5dcrow7_col3\" class=\"data row7 col3\" >$655</td>\n",
       "                        <td id=\"T_b20a3508_8105_11ea_981b_287fcf5ae5dcrow7_col4\" class=\"data row7 col4\" >76.6</td>\n",
       "                        <td id=\"T_b20a3508_8105_11ea_981b_287fcf5ae5dcrow7_col5\" class=\"data row7 col5\" >81.2</td>\n",
       "                        <td id=\"T_b20a3508_8105_11ea_981b_287fcf5ae5dcrow7_col6\" class=\"data row7 col6\" >65.7%</td>\n",
       "                        <td id=\"T_b20a3508_8105_11ea_981b_287fcf5ae5dcrow7_col7\" class=\"data row7 col7\" >81.3%</td>\n",
       "                        <td id=\"T_b20a3508_8105_11ea_981b_287fcf5ae5dcrow7_col8\" class=\"data row7 col8\" >0.535139</td>\n",
       "            </tr>\n",
       "            <tr>\n",
       "                        <th id=\"T_b20a3508_8105_11ea_981b_287fcf5ae5dclevel0_row8\" class=\"row_heading level0 row8\" >Johnson High School</th>\n",
       "                        <td id=\"T_b20a3508_8105_11ea_981b_287fcf5ae5dcrow8_col0\" class=\"data row8 col0\" >District</td>\n",
       "                        <td id=\"T_b20a3508_8105_11ea_981b_287fcf5ae5dcrow8_col1\" class=\"data row8 col1\" >4,761</td>\n",
       "                        <td id=\"T_b20a3508_8105_11ea_981b_287fcf5ae5dcrow8_col2\" class=\"data row8 col2\" >$3,094,650</td>\n",
       "                        <td id=\"T_b20a3508_8105_11ea_981b_287fcf5ae5dcrow8_col3\" class=\"data row8 col3\" >$650</td>\n",
       "                        <td id=\"T_b20a3508_8105_11ea_981b_287fcf5ae5dcrow8_col4\" class=\"data row8 col4\" >77.1</td>\n",
       "                        <td id=\"T_b20a3508_8105_11ea_981b_287fcf5ae5dcrow8_col5\" class=\"data row8 col5\" >81.0</td>\n",
       "                        <td id=\"T_b20a3508_8105_11ea_981b_287fcf5ae5dcrow8_col6\" class=\"data row8 col6\" >66.1%</td>\n",
       "                        <td id=\"T_b20a3508_8105_11ea_981b_287fcf5ae5dcrow8_col7\" class=\"data row8 col7\" >81.2%</td>\n",
       "                        <td id=\"T_b20a3508_8105_11ea_981b_287fcf5ae5dcrow8_col8\" class=\"data row8 col8\" >0.535392</td>\n",
       "            </tr>\n",
       "            <tr>\n",
       "                        <th id=\"T_b20a3508_8105_11ea_981b_287fcf5ae5dclevel0_row9\" class=\"row_heading level0 row9\" >Pena High School</th>\n",
       "                        <td id=\"T_b20a3508_8105_11ea_981b_287fcf5ae5dcrow9_col0\" class=\"data row9 col0\" >Charter</td>\n",
       "                        <td id=\"T_b20a3508_8105_11ea_981b_287fcf5ae5dcrow9_col1\" class=\"data row9 col1\" >962</td>\n",
       "                        <td id=\"T_b20a3508_8105_11ea_981b_287fcf5ae5dcrow9_col2\" class=\"data row9 col2\" >$585,858</td>\n",
       "                        <td id=\"T_b20a3508_8105_11ea_981b_287fcf5ae5dcrow9_col3\" class=\"data row9 col3\" >$609</td>\n",
       "                        <td id=\"T_b20a3508_8105_11ea_981b_287fcf5ae5dcrow9_col4\" class=\"data row9 col4\" >83.8</td>\n",
       "                        <td id=\"T_b20a3508_8105_11ea_981b_287fcf5ae5dcrow9_col5\" class=\"data row9 col5\" >84.0</td>\n",
       "                        <td id=\"T_b20a3508_8105_11ea_981b_287fcf5ae5dcrow9_col6\" class=\"data row9 col6\" >94.6%</td>\n",
       "                        <td id=\"T_b20a3508_8105_11ea_981b_287fcf5ae5dcrow9_col7\" class=\"data row9 col7\" >95.9%</td>\n",
       "                        <td id=\"T_b20a3508_8105_11ea_981b_287fcf5ae5dcrow9_col8\" class=\"data row9 col8\" >0.905405</td>\n",
       "            </tr>\n",
       "            <tr>\n",
       "                        <th id=\"T_b20a3508_8105_11ea_981b_287fcf5ae5dclevel0_row10\" class=\"row_heading level0 row10\" >Rodriguez High School</th>\n",
       "                        <td id=\"T_b20a3508_8105_11ea_981b_287fcf5ae5dcrow10_col0\" class=\"data row10 col0\" >District</td>\n",
       "                        <td id=\"T_b20a3508_8105_11ea_981b_287fcf5ae5dcrow10_col1\" class=\"data row10 col1\" >3,999</td>\n",
       "                        <td id=\"T_b20a3508_8105_11ea_981b_287fcf5ae5dcrow10_col2\" class=\"data row10 col2\" >$2,547,363</td>\n",
       "                        <td id=\"T_b20a3508_8105_11ea_981b_287fcf5ae5dcrow10_col3\" class=\"data row10 col3\" >$637</td>\n",
       "                        <td id=\"T_b20a3508_8105_11ea_981b_287fcf5ae5dcrow10_col4\" class=\"data row10 col4\" >76.8</td>\n",
       "                        <td id=\"T_b20a3508_8105_11ea_981b_287fcf5ae5dcrow10_col5\" class=\"data row10 col5\" >80.7</td>\n",
       "                        <td id=\"T_b20a3508_8105_11ea_981b_287fcf5ae5dcrow10_col6\" class=\"data row10 col6\" >66.4%</td>\n",
       "                        <td id=\"T_b20a3508_8105_11ea_981b_287fcf5ae5dcrow10_col7\" class=\"data row10 col7\" >80.2%</td>\n",
       "                        <td id=\"T_b20a3508_8105_11ea_981b_287fcf5ae5dcrow10_col8\" class=\"data row10 col8\" >0.529882</td>\n",
       "            </tr>\n",
       "            <tr>\n",
       "                        <th id=\"T_b20a3508_8105_11ea_981b_287fcf5ae5dclevel0_row11\" class=\"row_heading level0 row11\" >Shelton High School</th>\n",
       "                        <td id=\"T_b20a3508_8105_11ea_981b_287fcf5ae5dcrow11_col0\" class=\"data row11 col0\" >Charter</td>\n",
       "                        <td id=\"T_b20a3508_8105_11ea_981b_287fcf5ae5dcrow11_col1\" class=\"data row11 col1\" >1,761</td>\n",
       "                        <td id=\"T_b20a3508_8105_11ea_981b_287fcf5ae5dcrow11_col2\" class=\"data row11 col2\" >$1,056,600</td>\n",
       "                        <td id=\"T_b20a3508_8105_11ea_981b_287fcf5ae5dcrow11_col3\" class=\"data row11 col3\" >$600</td>\n",
       "                        <td id=\"T_b20a3508_8105_11ea_981b_287fcf5ae5dcrow11_col4\" class=\"data row11 col4\" >83.4</td>\n",
       "                        <td id=\"T_b20a3508_8105_11ea_981b_287fcf5ae5dcrow11_col5\" class=\"data row11 col5\" >83.7</td>\n",
       "                        <td id=\"T_b20a3508_8105_11ea_981b_287fcf5ae5dcrow11_col6\" class=\"data row11 col6\" >93.9%</td>\n",
       "                        <td id=\"T_b20a3508_8105_11ea_981b_287fcf5ae5dcrow11_col7\" class=\"data row11 col7\" >95.9%</td>\n",
       "                        <td id=\"T_b20a3508_8105_11ea_981b_287fcf5ae5dcrow11_col8\" class=\"data row11 col8\" >0.898921</td>\n",
       "            </tr>\n",
       "            <tr>\n",
       "                        <th id=\"T_b20a3508_8105_11ea_981b_287fcf5ae5dclevel0_row12\" class=\"row_heading level0 row12\" >Thomas High School</th>\n",
       "                        <td id=\"T_b20a3508_8105_11ea_981b_287fcf5ae5dcrow12_col0\" class=\"data row12 col0\" >Charter</td>\n",
       "                        <td id=\"T_b20a3508_8105_11ea_981b_287fcf5ae5dcrow12_col1\" class=\"data row12 col1\" >1,635</td>\n",
       "                        <td id=\"T_b20a3508_8105_11ea_981b_287fcf5ae5dcrow12_col2\" class=\"data row12 col2\" >$1,043,130</td>\n",
       "                        <td id=\"T_b20a3508_8105_11ea_981b_287fcf5ae5dcrow12_col3\" class=\"data row12 col3\" >$638</td>\n",
       "                        <td id=\"T_b20a3508_8105_11ea_981b_287fcf5ae5dcrow12_col4\" class=\"data row12 col4\" >83.4</td>\n",
       "                        <td id=\"T_b20a3508_8105_11ea_981b_287fcf5ae5dcrow12_col5\" class=\"data row12 col5\" >83.8</td>\n",
       "                        <td id=\"T_b20a3508_8105_11ea_981b_287fcf5ae5dcrow12_col6\" class=\"data row12 col6\" >93.3%</td>\n",
       "                        <td id=\"T_b20a3508_8105_11ea_981b_287fcf5ae5dcrow12_col7\" class=\"data row12 col7\" >97.3%</td>\n",
       "                        <td id=\"T_b20a3508_8105_11ea_981b_287fcf5ae5dcrow12_col8\" class=\"data row12 col8\" >0.90948</td>\n",
       "            </tr>\n",
       "            <tr>\n",
       "                        <th id=\"T_b20a3508_8105_11ea_981b_287fcf5ae5dclevel0_row13\" class=\"row_heading level0 row13\" >Wilson High School</th>\n",
       "                        <td id=\"T_b20a3508_8105_11ea_981b_287fcf5ae5dcrow13_col0\" class=\"data row13 col0\" >Charter</td>\n",
       "                        <td id=\"T_b20a3508_8105_11ea_981b_287fcf5ae5dcrow13_col1\" class=\"data row13 col1\" >2,283</td>\n",
       "                        <td id=\"T_b20a3508_8105_11ea_981b_287fcf5ae5dcrow13_col2\" class=\"data row13 col2\" >$1,319,574</td>\n",
       "                        <td id=\"T_b20a3508_8105_11ea_981b_287fcf5ae5dcrow13_col3\" class=\"data row13 col3\" >$578</td>\n",
       "                        <td id=\"T_b20a3508_8105_11ea_981b_287fcf5ae5dcrow13_col4\" class=\"data row13 col4\" >83.3</td>\n",
       "                        <td id=\"T_b20a3508_8105_11ea_981b_287fcf5ae5dcrow13_col5\" class=\"data row13 col5\" >84.0</td>\n",
       "                        <td id=\"T_b20a3508_8105_11ea_981b_287fcf5ae5dcrow13_col6\" class=\"data row13 col6\" >93.9%</td>\n",
       "                        <td id=\"T_b20a3508_8105_11ea_981b_287fcf5ae5dcrow13_col7\" class=\"data row13 col7\" >96.5%</td>\n",
       "                        <td id=\"T_b20a3508_8105_11ea_981b_287fcf5ae5dcrow13_col8\" class=\"data row13 col8\" >0.905826</td>\n",
       "            </tr>\n",
       "            <tr>\n",
       "                        <th id=\"T_b20a3508_8105_11ea_981b_287fcf5ae5dclevel0_row14\" class=\"row_heading level0 row14\" >Wright High School</th>\n",
       "                        <td id=\"T_b20a3508_8105_11ea_981b_287fcf5ae5dcrow14_col0\" class=\"data row14 col0\" >Charter</td>\n",
       "                        <td id=\"T_b20a3508_8105_11ea_981b_287fcf5ae5dcrow14_col1\" class=\"data row14 col1\" >1,800</td>\n",
       "                        <td id=\"T_b20a3508_8105_11ea_981b_287fcf5ae5dcrow14_col2\" class=\"data row14 col2\" >$1,049,400</td>\n",
       "                        <td id=\"T_b20a3508_8105_11ea_981b_287fcf5ae5dcrow14_col3\" class=\"data row14 col3\" >$583</td>\n",
       "                        <td id=\"T_b20a3508_8105_11ea_981b_287fcf5ae5dcrow14_col4\" class=\"data row14 col4\" >83.7</td>\n",
       "                        <td id=\"T_b20a3508_8105_11ea_981b_287fcf5ae5dcrow14_col5\" class=\"data row14 col5\" >84.0</td>\n",
       "                        <td id=\"T_b20a3508_8105_11ea_981b_287fcf5ae5dcrow14_col6\" class=\"data row14 col6\" >93.3%</td>\n",
       "                        <td id=\"T_b20a3508_8105_11ea_981b_287fcf5ae5dcrow14_col7\" class=\"data row14 col7\" >96.6%</td>\n",
       "                        <td id=\"T_b20a3508_8105_11ea_981b_287fcf5ae5dcrow14_col8\" class=\"data row14 col8\" >0.903333</td>\n",
       "            </tr>\n",
       "    </tbody></table>"
      ],
      "text/plain": [
       "<pandas.io.formats.style.Styler at 0x1c77720bbc8>"
      ]
     },
     "execution_count": 33,
     "metadata": {},
     "output_type": "execute_result"
    }
   ],
   "source": [
    "school_summary = pd.DataFrame({\n",
    "    \"School Type\": school_types,\n",
    "    \"Total Students\": stu_per_school,\n",
    "    \"Total School Budget\": school_budget,\n",
    "    \"Per Student Budget\": stu_budget,\n",
    "    \"Average Math Score\": avg_math,\n",
    "    \"Average Reading Score\": avg_read,\n",
    "    \"% Passing Math\": pass_math_score,\n",
    "    \"% Passing Reading\": pass_read_score,\n",
    "    \"% Overall Passing\": overall_passing,\n",
    "})\n",
    "school_summary\n",
    "\n",
    "#format cells\n",
    "school_summary.style.format({\n",
    "    \"Total Students\": \"{:,}\", \n",
    "    \"Total School Budget\": \"${:,}\", \n",
    "    \"Per Student Budget\": \"${:.0f}\",\n",
    "    'Average Math Score': \"{:.1f}\", \n",
    "    'Average Reading Score': \"{:.1f}\", \n",
    "    \"% Passing Math\": \"{:.1%}\", \n",
    "    \"% Passing Reading\": \"{:.1%}\", \n",
    "    \"Overall Passing Rate\": \"{:.1%}\"\n",
    "})\n",
    "\n"
   ]
  },
  {
   "cell_type": "code",
   "execution_count": null,
   "metadata": {},
   "outputs": [],
   "source": []
  },
  {
   "cell_type": "code",
   "execution_count": null,
   "metadata": {},
   "outputs": [],
   "source": []
  }
 ],
 "metadata": {
  "kernelspec": {
   "display_name": "Python 3",
   "language": "python",
   "name": "python3"
  },
  "language_info": {
   "codemirror_mode": {
    "name": "ipython",
    "version": 3
   },
   "file_extension": ".py",
   "mimetype": "text/x-python",
   "name": "python",
   "nbconvert_exporter": "python",
   "pygments_lexer": "ipython3",
   "version": "3.7.4"
  }
 },
 "nbformat": 4,
 "nbformat_minor": 2
}
